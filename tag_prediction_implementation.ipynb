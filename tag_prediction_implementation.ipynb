{
  "nbformat": 4,
  "nbformat_minor": 0,
  "metadata": {
    "colab": {
      "name": "tag_prediction_implementation.ipynb",
      "provenance": [],
      "collapsed_sections": [],
      "include_colab_link": true
    },
    "kernelspec": {
      "name": "python3",
      "display_name": "Python 3"
    },
    "language_info": {
      "name": "python"
    }
  },
  "cells": [
    {
      "cell_type": "markdown",
      "metadata": {
        "id": "view-in-github",
        "colab_type": "text"
      },
      "source": [
        "<a href=\"https://colab.research.google.com/github/15nisha/EXperimets/blob/main/tag_prediction_implementation.ipynb\" target=\"_parent\"><img src=\"https://colab.research.google.com/assets/colab-badge.svg\" alt=\"Open In Colab\"/></a>"
      ]
    },
    {
      "cell_type": "markdown",
      "metadata": {
        "id": "uj3pvNMFQGpg"
      },
      "source": [
        "**How to solve Multi - label classification Problem**"
      ]
    },
    {
      "cell_type": "code",
      "metadata": {
        "id": "3pPTCU5uroWI"
      },
      "source": [
        "import os\n",
        "import csv\n",
        "import pandas as pd\n",
        "import numpy as np\n",
        "import matplotlib.pyplot as plt\n",
        "import seaborn as sns\n",
        "from sklearn.model_selection import train_test_split\n",
        "import nltk\n",
        "from nltk.corpus import stopwords\n",
        "from nltk.stem.snowball import SnowballStemmer\n",
        "import re\n",
        "import sys\n",
        "import warnings"
      ],
      "execution_count": 1,
      "outputs": []
    },
    {
      "cell_type": "markdown",
      "metadata": {
        "id": "zZukCUDotUa-"
      },
      "source": [
        "**Importing data**"
      ]
    },
    {
      "cell_type": "code",
      "metadata": {
        "colab": {
          "base_uri": "https://localhost:8080/"
        },
        "id": "i5BYKUHUsDLq",
        "outputId": "a4b11328-9f83-44bd-a322-84e195cf387f"
      },
      "source": [
        "from google.colab import drive\n",
        "drive.mount('/content/drive')"
      ],
      "execution_count": 2,
      "outputs": [
        {
          "output_type": "stream",
          "name": "stdout",
          "text": [
            "Mounted at /content/drive\n"
          ]
        }
      ]
    },
    {
      "cell_type": "code",
      "metadata": {
        "id": "LfimA30kt_eG"
      },
      "source": [
        "def impoting_dataset(path):\n",
        "  ''' Import csv file  from google drive into colab'''\n",
        "  data_raw = pd.read_csv(path)\n",
        "  return data_raw\n"
      ],
      "execution_count": 3,
      "outputs": []
    },
    {
      "cell_type": "code",
      "metadata": {
        "id": "FcTO-kIBuVVR"
      },
      "source": [
        " df = impoting_dataset('/content/drive/MyDrive/data.csv')"
      ],
      "execution_count": 4,
      "outputs": []
    },
    {
      "cell_type": "code",
      "metadata": {
        "colab": {
          "base_uri": "https://localhost:8080/"
        },
        "id": "FUNPSJGFxLVi",
        "outputId": "f90422f2-8c1e-4bab-902d-2a637c06947a"
      },
      "source": [
        "len(df)"
      ],
      "execution_count": null,
      "outputs": [
        {
          "output_type": "execute_result",
          "data": {
            "text/plain": [
              "4375"
            ]
          },
          "metadata": {},
          "execution_count": 5
        }
      ]
    },
    {
      "cell_type": "code",
      "metadata": {
        "id": "otzsDC08u856"
      },
      "source": [
        "df.drop(columns='Unnamed: 0',inplace=True,axis=1)"
      ],
      "execution_count": 5,
      "outputs": []
    },
    {
      "cell_type": "code",
      "metadata": {
        "colab": {
          "base_uri": "https://localhost:8080/",
          "height": 204
        },
        "id": "a2h5O8UkvDvm",
        "outputId": "311c2428-cf16-43d9-bcc0-a778ffd06a7f"
      },
      "source": [
        "df.head()"
      ],
      "execution_count": 6,
      "outputs": [
        {
          "output_type": "execute_result",
          "data": {
            "text/html": [
              "<div>\n",
              "<style scoped>\n",
              "    .dataframe tbody tr th:only-of-type {\n",
              "        vertical-align: middle;\n",
              "    }\n",
              "\n",
              "    .dataframe tbody tr th {\n",
              "        vertical-align: top;\n",
              "    }\n",
              "\n",
              "    .dataframe thead th {\n",
              "        text-align: right;\n",
              "    }\n",
              "</style>\n",
              "<table border=\"1\" class=\"dataframe\">\n",
              "  <thead>\n",
              "    <tr style=\"text-align: right;\">\n",
              "      <th></th>\n",
              "      <th>tags</th>\n",
              "      <th>description</th>\n",
              "    </tr>\n",
              "  </thead>\n",
              "  <tbody>\n",
              "    <tr>\n",
              "      <th>0</th>\n",
              "      <td>licence-needed supervising-job 5-plus-years-ex...</td>\n",
              "      <td>THE COMPANY    Employer is a midstream service...</td>\n",
              "    </tr>\n",
              "    <tr>\n",
              "      <th>1</th>\n",
              "      <td>2-4-years-experience-needed salary full-time-job</td>\n",
              "      <td>ICR Staffing is now accepting resumes for Indu...</td>\n",
              "    </tr>\n",
              "    <tr>\n",
              "      <th>2</th>\n",
              "      <td>part-time-job</td>\n",
              "      <td>This is a great position for the right person....</td>\n",
              "    </tr>\n",
              "    <tr>\n",
              "      <th>3</th>\n",
              "      <td>licence-needed</td>\n",
              "      <td>A large multi-specialty health center is expan...</td>\n",
              "    </tr>\n",
              "    <tr>\n",
              "      <th>4</th>\n",
              "      <td>5-plus-years-experience-needed full-time-job b...</td>\n",
              "      <td>JOB PURPOSE:    The Account Director is respon...</td>\n",
              "    </tr>\n",
              "  </tbody>\n",
              "</table>\n",
              "</div>"
            ],
            "text/plain": [
              "                                                tags                                        description\n",
              "0  licence-needed supervising-job 5-plus-years-ex...  THE COMPANY    Employer is a midstream service...\n",
              "1   2-4-years-experience-needed salary full-time-job  ICR Staffing is now accepting resumes for Indu...\n",
              "2                                      part-time-job  This is a great position for the right person....\n",
              "3                                     licence-needed  A large multi-specialty health center is expan...\n",
              "4  5-plus-years-experience-needed full-time-job b...  JOB PURPOSE:    The Account Director is respon..."
            ]
          },
          "metadata": {},
          "execution_count": 6
        }
      ]
    },
    {
      "cell_type": "markdown",
      "metadata": {
        "id": "d24n1j83vLPY"
      },
      "source": [
        "**Data Cleaning**"
      ]
    },
    {
      "cell_type": "code",
      "metadata": {
        "id": "0eBaM7RsvQ-w"
      },
      "source": [
        "def removing_null(dataset):\n",
        "  ''' remove null value'''\n",
        "  dataset.dropna(inplace=True)\n",
        "  return dataset\n",
        "\n",
        "def removing_duplicate(dataset_df):\n",
        "  ''' remove duplicate varaible'''\n",
        "\n",
        "  dataset = dataset_df.drop_duplicates( keep='first')\n",
        "  return dataset\n",
        "\n"
      ],
      "execution_count": 7,
      "outputs": []
    },
    {
      "cell_type": "code",
      "metadata": {
        "id": "nBXAp2OjzbG_"
      },
      "source": [
        "df = df.apply(removing_null)\n",
        "# df = df.apply(removing_duplicate)"
      ],
      "execution_count": 8,
      "outputs": []
    },
    {
      "cell_type": "code",
      "metadata": {
        "id": "d9459Jk0vKuj"
      },
      "source": [
        "df = df.apply(removing_duplicate)"
      ],
      "execution_count": 9,
      "outputs": []
    },
    {
      "cell_type": "code",
      "metadata": {
        "id": "3Y1OIMGK2Kd1",
        "colab": {
          "base_uri": "https://localhost:8080/"
        },
        "outputId": "8f2ee918-0104-4f9d-e340-8bafbea1ef91"
      },
      "source": [
        "len(df)"
      ],
      "execution_count": null,
      "outputs": [
        {
          "output_type": "execute_result",
          "data": {
            "text/plain": [
              "4375"
            ]
          },
          "metadata": {},
          "execution_count": 59
        }
      ]
    },
    {
      "cell_type": "code",
      "metadata": {
        "id": "NgLEtpXhvDl4",
        "colab": {
          "base_uri": "https://localhost:8080/",
          "height": 204
        },
        "outputId": "5d366e4d-5277-44a4-cb68-823086776863"
      },
      "source": [
        "df.head()"
      ],
      "execution_count": null,
      "outputs": [
        {
          "output_type": "execute_result",
          "data": {
            "text/html": [
              "<div>\n",
              "<style scoped>\n",
              "    .dataframe tbody tr th:only-of-type {\n",
              "        vertical-align: middle;\n",
              "    }\n",
              "\n",
              "    .dataframe tbody tr th {\n",
              "        vertical-align: top;\n",
              "    }\n",
              "\n",
              "    .dataframe thead th {\n",
              "        text-align: right;\n",
              "    }\n",
              "</style>\n",
              "<table border=\"1\" class=\"dataframe\">\n",
              "  <thead>\n",
              "    <tr style=\"text-align: right;\">\n",
              "      <th></th>\n",
              "      <th>tags</th>\n",
              "      <th>description</th>\n",
              "    </tr>\n",
              "  </thead>\n",
              "  <tbody>\n",
              "    <tr>\n",
              "      <th>0</th>\n",
              "      <td>licence-needed supervising-job 5-plus-years-ex...</td>\n",
              "      <td>THE COMPANY    Employer is a midstream service...</td>\n",
              "    </tr>\n",
              "    <tr>\n",
              "      <th>1</th>\n",
              "      <td>2-4-years-experience-needed salary full-time-job</td>\n",
              "      <td>ICR Staffing is now accepting resumes for Indu...</td>\n",
              "    </tr>\n",
              "    <tr>\n",
              "      <th>2</th>\n",
              "      <td>part-time-job</td>\n",
              "      <td>This is a great position for the right person....</td>\n",
              "    </tr>\n",
              "    <tr>\n",
              "      <th>3</th>\n",
              "      <td>licence-needed</td>\n",
              "      <td>A large multi-specialty health center is expan...</td>\n",
              "    </tr>\n",
              "    <tr>\n",
              "      <th>4</th>\n",
              "      <td>5-plus-years-experience-needed full-time-job b...</td>\n",
              "      <td>JOB PURPOSE:    The Account Director is respon...</td>\n",
              "    </tr>\n",
              "  </tbody>\n",
              "</table>\n",
              "</div>"
            ],
            "text/plain": [
              "                                                tags                                        description\n",
              "0  licence-needed supervising-job 5-plus-years-ex...  THE COMPANY    Employer is a midstream service...\n",
              "1   2-4-years-experience-needed salary full-time-job  ICR Staffing is now accepting resumes for Indu...\n",
              "2                                      part-time-job  This is a great position for the right person....\n",
              "3                                     licence-needed  A large multi-specialty health center is expan...\n",
              "4  5-plus-years-experience-needed full-time-job b...  JOB PURPOSE:    The Account Director is respon..."
            ]
          },
          "metadata": {},
          "execution_count": 10
        }
      ]
    },
    {
      "cell_type": "code",
      "metadata": {
        "id": "E79ez81JMBsf"
      },
      "source": [
        "def cleanHtml(sentence):\n",
        "    cleanr = re.compile('<.*?>')\n",
        "    cleantext = re.sub(cleanr, ' ', str(sentence))\n",
        "    return cleantext\n",
        "def cleanPunc(sentence): #function to clean the word of any punctuation or special characters\n",
        "    cleaned = re.sub(r'[?|!|\\'|\"|#]',r'',sentence)\n",
        "    cleaned = re.sub(r'[.|,|)|(|\\|/]',r' ',cleaned)\n",
        "    cleaned = cleaned.strip()\n",
        "    cleaned = cleaned.replace(\"\\n\",\" \")\n",
        "    return cleaned\n",
        "def keepAlpha(sentence):\n",
        "    alpha_sent = \"\"\n",
        "    for word in sentence.split():\n",
        "        alpha_word = re.sub('[^a-z A-Z]+', ' ', word)\n",
        "        alpha_sent += alpha_word\n",
        "        alpha_sent += \" \"\n",
        "    alpha_sent = alpha_sent.strip()\n",
        "    return alpha_sent\n"
      ],
      "execution_count": 10,
      "outputs": []
    },
    {
      "cell_type": "code",
      "metadata": {
        "id": "IO7YELZ_Vfvr"
      },
      "source": [
        "df['comment_text'] = df['description'].str.lower()\n",
        "df['comment_text'] = df['comment_text'].apply(cleanHtml)\n",
        "df['comment_text'] = df['comment_text'].apply(cleanPunc)\n",
        "df['comment_text'] = df['comment_text'].apply(keepAlpha)"
      ],
      "execution_count": 11,
      "outputs": []
    },
    {
      "cell_type": "code",
      "metadata": {
        "colab": {
          "base_uri": "https://localhost:8080/",
          "height": 204
        },
        "id": "KiILt_PhWL7w",
        "outputId": "dba63f7a-d4a5-498d-9a6e-aea385248afe"
      },
      "source": [
        "df.head()"
      ],
      "execution_count": 12,
      "outputs": [
        {
          "output_type": "execute_result",
          "data": {
            "text/html": [
              "<div>\n",
              "<style scoped>\n",
              "    .dataframe tbody tr th:only-of-type {\n",
              "        vertical-align: middle;\n",
              "    }\n",
              "\n",
              "    .dataframe tbody tr th {\n",
              "        vertical-align: top;\n",
              "    }\n",
              "\n",
              "    .dataframe thead th {\n",
              "        text-align: right;\n",
              "    }\n",
              "</style>\n",
              "<table border=\"1\" class=\"dataframe\">\n",
              "  <thead>\n",
              "    <tr style=\"text-align: right;\">\n",
              "      <th></th>\n",
              "      <th>tags</th>\n",
              "      <th>description</th>\n",
              "      <th>comment_text</th>\n",
              "    </tr>\n",
              "  </thead>\n",
              "  <tbody>\n",
              "    <tr>\n",
              "      <th>0</th>\n",
              "      <td>licence-needed supervising-job 5-plus-years-ex...</td>\n",
              "      <td>THE COMPANY    Employer is a midstream service...</td>\n",
              "      <td>the company employer is a midstream service pr...</td>\n",
              "    </tr>\n",
              "    <tr>\n",
              "      <th>1</th>\n",
              "      <td>2-4-years-experience-needed salary full-time-job</td>\n",
              "      <td>ICR Staffing is now accepting resumes for Indu...</td>\n",
              "      <td>icr staffing is now accepting resumes for indu...</td>\n",
              "    </tr>\n",
              "    <tr>\n",
              "      <th>2</th>\n",
              "      <td>part-time-job</td>\n",
              "      <td>This is a great position for the right person....</td>\n",
              "      <td>this is a great position for the right person ...</td>\n",
              "    </tr>\n",
              "    <tr>\n",
              "      <th>3</th>\n",
              "      <td>licence-needed</td>\n",
              "      <td>A large multi-specialty health center is expan...</td>\n",
              "      <td>a large multi specialty health center is expan...</td>\n",
              "    </tr>\n",
              "    <tr>\n",
              "      <th>4</th>\n",
              "      <td>5-plus-years-experience-needed full-time-job b...</td>\n",
              "      <td>JOB PURPOSE:    The Account Director is respon...</td>\n",
              "      <td>job purpose  the account director is responsib...</td>\n",
              "    </tr>\n",
              "  </tbody>\n",
              "</table>\n",
              "</div>"
            ],
            "text/plain": [
              "                                                tags  ...                                       comment_text\n",
              "0  licence-needed supervising-job 5-plus-years-ex...  ...  the company employer is a midstream service pr...\n",
              "1   2-4-years-experience-needed salary full-time-job  ...  icr staffing is now accepting resumes for indu...\n",
              "2                                      part-time-job  ...  this is a great position for the right person ...\n",
              "3                                     licence-needed  ...  a large multi specialty health center is expan...\n",
              "4  5-plus-years-experience-needed full-time-job b...  ...  job purpose  the account director is responsib...\n",
              "\n",
              "[5 rows x 3 columns]"
            ]
          },
          "metadata": {},
          "execution_count": 12
        }
      ]
    },
    {
      "cell_type": "code",
      "metadata": {
        "id": "rN1Ax9yNWpG1"
      },
      "source": [
        "stop_words = set(stopwords.words('english'))\n",
        "stop_words.update(['zero','one','two','three','four','five','six','seven','eight','nine','ten','may','also','across','among','beside','however','yet','within'])\n",
        "re_stop_words = re.compile(r\"\\b(\" + \"|\".join(stop_words) + \")\\\\W\", re.I)\n",
        "def removeStopWords(sentence):\n",
        "  ''' Removing stopwords'''\n",
        "    global re_stop_words\n",
        "    return re_stop_words.sub(\" \", sentence)\n"
      ],
      "execution_count": 15,
      "outputs": []
    },
    {
      "cell_type": "code",
      "metadata": {
        "colab": {
          "base_uri": "https://localhost:8080/"
        },
        "id": "xoRDUkwTW3zW",
        "outputId": "b1540cf6-92b0-480e-b51b-d8f6536671a8"
      },
      "source": [
        "nltk.download('stopwords')"
      ],
      "execution_count": 14,
      "outputs": [
        {
          "output_type": "stream",
          "name": "stdout",
          "text": [
            "[nltk_data] Downloading package stopwords to /root/nltk_data...\n",
            "[nltk_data]   Unzipping corpora/stopwords.zip.\n"
          ]
        },
        {
          "output_type": "execute_result",
          "data": {
            "text/plain": [
              "True"
            ]
          },
          "metadata": {},
          "execution_count": 14
        }
      ]
    },
    {
      "cell_type": "code",
      "metadata": {
        "id": "grEbbhhEWsd8"
      },
      "source": [
        "df['comment_text'] = df['comment_text'].apply(removeStopWords)"
      ],
      "execution_count": 16,
      "outputs": []
    },
    {
      "cell_type": "code",
      "metadata": {
        "colab": {
          "base_uri": "https://localhost:8080/",
          "height": 255
        },
        "id": "p2AZ2XrcXLa0",
        "outputId": "5576f285-bcf1-4102-ac7d-f87792fe1fe5"
      },
      "source": [
        "df.head()"
      ],
      "execution_count": null,
      "outputs": [
        {
          "output_type": "execute_result",
          "data": {
            "text/html": [
              "<div>\n",
              "<style scoped>\n",
              "    .dataframe tbody tr th:only-of-type {\n",
              "        vertical-align: middle;\n",
              "    }\n",
              "\n",
              "    .dataframe tbody tr th {\n",
              "        vertical-align: top;\n",
              "    }\n",
              "\n",
              "    .dataframe thead th {\n",
              "        text-align: right;\n",
              "    }\n",
              "</style>\n",
              "<table border=\"1\" class=\"dataframe\">\n",
              "  <thead>\n",
              "    <tr style=\"text-align: right;\">\n",
              "      <th></th>\n",
              "      <th>tags</th>\n",
              "      <th>description</th>\n",
              "      <th>comment_text</th>\n",
              "    </tr>\n",
              "  </thead>\n",
              "  <tbody>\n",
              "    <tr>\n",
              "      <th>0</th>\n",
              "      <td>licence-needed supervising-job 5-plus-years-ex...</td>\n",
              "      <td>THE COMPANY    Employer is a midstream service...</td>\n",
              "      <td>company employer   midstream service provider...</td>\n",
              "    </tr>\n",
              "    <tr>\n",
              "      <th>1</th>\n",
              "      <td>2-4-years-experience-needed salary full-time-job</td>\n",
              "      <td>ICR Staffing is now accepting resumes for Indu...</td>\n",
              "      <td>icr staffing   accepting resumes  industrial m...</td>\n",
              "    </tr>\n",
              "    <tr>\n",
              "      <th>2</th>\n",
              "      <td>part-time-job</td>\n",
              "      <td>This is a great position for the right person....</td>\n",
              "      <td>great position   right person healthcaresee...</td>\n",
              "    </tr>\n",
              "    <tr>\n",
              "      <th>3</th>\n",
              "      <td>licence-needed</td>\n",
              "      <td>A large multi-specialty health center is expan...</td>\n",
              "      <td>large multi specialty health center  expandin...</td>\n",
              "    </tr>\n",
              "    <tr>\n",
              "      <th>4</th>\n",
              "      <td>5-plus-years-experience-needed full-time-job b...</td>\n",
              "      <td>JOB PURPOSE:    The Account Director is respon...</td>\n",
              "      <td>job purpose   account director  responsible  m...</td>\n",
              "    </tr>\n",
              "  </tbody>\n",
              "</table>\n",
              "</div>"
            ],
            "text/plain": [
              "                                                tags  ...                                       comment_text\n",
              "0  licence-needed supervising-job 5-plus-years-ex...  ...   company employer   midstream service provider...\n",
              "1   2-4-years-experience-needed salary full-time-job  ...  icr staffing   accepting resumes  industrial m...\n",
              "2                                      part-time-job  ...     great position   right person healthcaresee...\n",
              "3                                     licence-needed  ...   large multi specialty health center  expandin...\n",
              "4  5-plus-years-experience-needed full-time-job b...  ...  job purpose   account director  responsible  m...\n",
              "\n",
              "[5 rows x 3 columns]"
            ]
          },
          "metadata": {},
          "execution_count": 26
        }
      ]
    },
    {
      "cell_type": "code",
      "metadata": {
        "id": "jaRAMyUlXZCz"
      },
      "source": [
        "stemmer = SnowballStemmer(\"english\")\n",
        "def stemming(sentence):\n",
        "  ''' removing same root originated words'''\n",
        "    stemSentence = \"\"\n",
        "    for word in sentence.split():\n",
        "        stem = stemmer.stem(word)\n",
        "        stemSentence += stem\n",
        "        stemSentence += \" \"\n",
        "    stemSentence = stemSentence.strip()\n",
        "    return stemSentence\n"
      ],
      "execution_count": 17,
      "outputs": []
    },
    {
      "cell_type": "code",
      "metadata": {
        "id": "whF4z7_FXdsA"
      },
      "source": [
        "df['comment_text'] = df['comment_text'].apply(stemming)"
      ],
      "execution_count": 18,
      "outputs": []
    },
    {
      "cell_type": "code",
      "metadata": {
        "colab": {
          "base_uri": "https://localhost:8080/",
          "height": 86
        },
        "id": "_DVLrQyOXmgV",
        "outputId": "444bf19f-ff23-45c7-94a8-eb02162ded32"
      },
      "source": [
        "df['comment_text'][18]"
      ],
      "execution_count": null,
      "outputs": [
        {
          "output_type": "execute_result",
          "data": {
            "application/vnd.google.colaboratory.intrinsic+json": {
              "type": "string"
            },
            "text/plain": [
              "'join club today club strong grow whether member small busi owner shop product busi head household shop famili aim provid solut save money time take step toward help environ sum work help member live better everi day motiv enthusiast want part uniqu retail experi read career opportun wait sam club local onalaska wi sam club hire opportun includ profession cash offic associ front end cashier cart attend sale wireless sale associ inform sam club appli onlin click appli link specifi interest posit interest locat sam club equal opportun employ'"
            ]
          },
          "metadata": {},
          "execution_count": 32
        }
      ]
    },
    {
      "cell_type": "markdown",
      "metadata": {
        "id": "ch94On4QBqMW"
      },
      "source": [
        "**visualisation**"
      ]
    },
    {
      "cell_type": "code",
      "metadata": {
        "id": "lEUUnnrQXrww"
      },
      "source": [
        ""
      ],
      "execution_count": null,
      "outputs": []
    },
    {
      "cell_type": "markdown",
      "metadata": {
        "id": "cg9K_HTHBvZH"
      },
      "source": [
        "**train _test split**"
      ]
    },
    {
      "cell_type": "code",
      "metadata": {
        "id": "SJJasq_hXro0"
      },
      "source": [
        "X_train, X_validation, X_test = np.split(df['description'], [int(0.6*len(df)),int(0.8*len(df))])\n",
        "y_train, y_validation, y_test = np.split(df['tags'], [int(0.6*len(df)),int(0.8*len(df))])"
      ],
      "execution_count": 19,
      "outputs": []
    },
    {
      "cell_type": "markdown",
      "metadata": {
        "id": "D5RULB2mB3E1"
      },
      "source": [
        "**Preprocessing**"
      ]
    },
    {
      "cell_type": "code",
      "metadata": {
        "id": "OKYlFKstXrk8"
      },
      "source": [
        ""
      ],
      "execution_count": null,
      "outputs": []
    }
  ]
}