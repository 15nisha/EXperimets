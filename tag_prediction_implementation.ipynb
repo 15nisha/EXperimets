{
  "nbformat": 4,
  "nbformat_minor": 0,
  "metadata": {
    "colab": {
      "name": "tag_prediction_implementation.ipynb",
      "provenance": [],
      "collapsed_sections": [],
      "include_colab_link": true
    },
    "kernelspec": {
      "display_name": "Python 3",
      "name": "python3"
    },
    "language_info": {
      "name": "python"
    }
  },
  "cells": [
    {
      "cell_type": "markdown",
      "metadata": {
        "id": "view-in-github",
        "colab_type": "text"
      },
      "source": [
        "<a href=\"https://colab.research.google.com/github/15nisha/EXperimets/blob/main/tag_prediction_implementation.ipynb\" target=\"_parent\"><img src=\"https://colab.research.google.com/assets/colab-badge.svg\" alt=\"Open In Colab\"/></a>"
      ]
    },
    {
      "cell_type": "markdown",
      "metadata": {
        "id": "uj3pvNMFQGpg"
      },
      "source": [
        "**How to solve Multi - label classification Problem**"
      ]
    },
    {
      "cell_type": "code",
      "metadata": {
        "id": "p0nJ_FadBKMN"
      },
      "source": [
        "import warnings\n",
        "\n",
        "import pickle\n",
        "import time\n",
        "\n",
        "import re\n",
        "from bs4 import BeautifulSoup\n",
        "import nltk\n",
        "from nltk.tokenize import ToktokTokenizer\n",
        "from nltk.stem.wordnet import WordNetLemmatizer\n",
        "from nltk.corpus import stopwords\n",
        "from string import punctuation\n",
        "\n",
        "from sklearn.feature_extraction.text import TfidfVectorizer\n",
        "from sklearn.preprocessing import MultiLabelBinarizer\n",
        "from sklearn.model_selection import train_test_split\n",
        "from sklearn.model_selection import learning_curve\n",
        "from sklearn.dummy import DummyClassifier\n",
        "from sklearn.naive_bayes import MultinomialNB\n",
        "from sklearn.linear_model import SGDClassifier\n",
        "from sklearn.linear_model import LogisticRegression\n",
        "from sklearn.multiclass import OneVsRestClassifier\n",
        "from sklearn.svm import LinearSVC\n",
        "from sklearn.linear_model import Perceptron\n",
        "from sklearn.linear_model import PassiveAggressiveClassifier\n",
        "from sklearn.neural_network import MLPClassifier\n",
        "from sklearn.ensemble import RandomForestClassifier\n",
        "from sklearn import model_selection\n",
        "from sklearn.metrics import confusion_matrix\n",
        "from sklearn.metrics import hamming_loss\n",
        "import sklearn.metrics as skm\n",
        "\n",
        "\n",
        "warnings.filterwarnings(\"ignore\")"
      ],
      "execution_count": 123,
      "outputs": []
    },
    {
      "cell_type": "markdown",
      "metadata": {
        "id": "zZukCUDotUa-"
      },
      "source": [
        "**Importing data**"
      ]
    },
    {
      "cell_type": "code",
      "metadata": {
        "colab": {
          "base_uri": "https://localhost:8080/"
        },
        "id": "i5BYKUHUsDLq",
        "outputId": "6a66649a-3fbf-4fb4-b60f-3f44115d969e"
      },
      "source": [
        "from google.colab import drive\n",
        "drive.mount('/content/drive')"
      ],
      "execution_count": null,
      "outputs": [
        {
          "output_type": "stream",
          "name": "stdout",
          "text": [
            "Mounted at /content/drive\n"
          ]
        }
      ]
    },
    {
      "cell_type": "code",
      "metadata": {
        "id": "LfimA30kt_eG"
      },
      "source": [
        "def impoting_dataset(path):\n",
        "  ''' Import csv file  from google drive into colab'''\n",
        "  data_raw = pd.read_csv(path)\n",
        "  return data_raw\n"
      ],
      "execution_count": null,
      "outputs": []
    },
    {
      "cell_type": "code",
      "metadata": {
        "id": "FcTO-kIBuVVR"
      },
      "source": [
        " df = impoting_dataset('/content/drive/MyDrive/data.csv')"
      ],
      "execution_count": null,
      "outputs": []
    },
    {
      "cell_type": "code",
      "metadata": {
        "colab": {
          "base_uri": "https://localhost:8080/",
          "height": 204
        },
        "id": "sYwbbt-Qyebh",
        "outputId": "1c898f5a-8638-471c-d780-6d64a6cf4270"
      },
      "source": [
        "df.head()"
      ],
      "execution_count": null,
      "outputs": [
        {
          "output_type": "execute_result",
          "data": {
            "text/html": [
              "<div>\n",
              "<style scoped>\n",
              "    .dataframe tbody tr th:only-of-type {\n",
              "        vertical-align: middle;\n",
              "    }\n",
              "\n",
              "    .dataframe tbody tr th {\n",
              "        vertical-align: top;\n",
              "    }\n",
              "\n",
              "    .dataframe thead th {\n",
              "        text-align: right;\n",
              "    }\n",
              "</style>\n",
              "<table border=\"1\" class=\"dataframe\">\n",
              "  <thead>\n",
              "    <tr style=\"text-align: right;\">\n",
              "      <th></th>\n",
              "      <th>Unnamed: 0</th>\n",
              "      <th>tags</th>\n",
              "      <th>description</th>\n",
              "    </tr>\n",
              "  </thead>\n",
              "  <tbody>\n",
              "    <tr>\n",
              "      <th>0</th>\n",
              "      <td>0</td>\n",
              "      <td>licence-needed supervising-job 5-plus-years-ex...</td>\n",
              "      <td>THE COMPANY    Employer is a midstream service...</td>\n",
              "    </tr>\n",
              "    <tr>\n",
              "      <th>1</th>\n",
              "      <td>1</td>\n",
              "      <td>2-4-years-experience-needed salary full-time-job</td>\n",
              "      <td>ICR Staffing is now accepting resumes for Indu...</td>\n",
              "    </tr>\n",
              "    <tr>\n",
              "      <th>2</th>\n",
              "      <td>2</td>\n",
              "      <td>part-time-job</td>\n",
              "      <td>This is a great position for the right person....</td>\n",
              "    </tr>\n",
              "    <tr>\n",
              "      <th>3</th>\n",
              "      <td>3</td>\n",
              "      <td>licence-needed</td>\n",
              "      <td>A large multi-specialty health center is expan...</td>\n",
              "    </tr>\n",
              "    <tr>\n",
              "      <th>4</th>\n",
              "      <td>4</td>\n",
              "      <td>5-plus-years-experience-needed full-time-job b...</td>\n",
              "      <td>JOB PURPOSE:    The Account Director is respon...</td>\n",
              "    </tr>\n",
              "  </tbody>\n",
              "</table>\n",
              "</div>"
            ],
            "text/plain": [
              "   Unnamed: 0  ...                                        description\n",
              "0           0  ...  THE COMPANY    Employer is a midstream service...\n",
              "1           1  ...  ICR Staffing is now accepting resumes for Indu...\n",
              "2           2  ...  This is a great position for the right person....\n",
              "3           3  ...  A large multi-specialty health center is expan...\n",
              "4           4  ...  JOB PURPOSE:    The Account Director is respon...\n",
              "\n",
              "[5 rows x 3 columns]"
            ]
          },
          "metadata": {},
          "execution_count": 92
        }
      ]
    },
    {
      "cell_type": "code",
      "metadata": {
        "colab": {
          "base_uri": "https://localhost:8080/"
        },
        "id": "FUNPSJGFxLVi",
        "outputId": "0d0f4029-f092-4666-93f2-fb700d0be134"
      },
      "source": [
        "len(df)"
      ],
      "execution_count": null,
      "outputs": [
        {
          "output_type": "execute_result",
          "data": {
            "text/plain": [
              "4375"
            ]
          },
          "metadata": {},
          "execution_count": 5
        }
      ]
    },
    {
      "cell_type": "code",
      "metadata": {
        "id": "otzsDC08u856"
      },
      "source": [
        "df.drop(columns='Unnamed: 0',inplace=True,axis=1)"
      ],
      "execution_count": null,
      "outputs": []
    },
    {
      "cell_type": "code",
      "metadata": {
        "colab": {
          "base_uri": "https://localhost:8080/",
          "height": 204
        },
        "id": "a2h5O8UkvDvm",
        "outputId": "111f337c-9720-4b70-f97b-398e2eb90ad2"
      },
      "source": [
        "df.head()"
      ],
      "execution_count": null,
      "outputs": [
        {
          "output_type": "execute_result",
          "data": {
            "text/html": [
              "<div>\n",
              "<style scoped>\n",
              "    .dataframe tbody tr th:only-of-type {\n",
              "        vertical-align: middle;\n",
              "    }\n",
              "\n",
              "    .dataframe tbody tr th {\n",
              "        vertical-align: top;\n",
              "    }\n",
              "\n",
              "    .dataframe thead th {\n",
              "        text-align: right;\n",
              "    }\n",
              "</style>\n",
              "<table border=\"1\" class=\"dataframe\">\n",
              "  <thead>\n",
              "    <tr style=\"text-align: right;\">\n",
              "      <th></th>\n",
              "      <th>tags</th>\n",
              "      <th>description</th>\n",
              "    </tr>\n",
              "  </thead>\n",
              "  <tbody>\n",
              "    <tr>\n",
              "      <th>0</th>\n",
              "      <td>licence-needed supervising-job 5-plus-years-ex...</td>\n",
              "      <td>THE COMPANY    Employer is a midstream service...</td>\n",
              "    </tr>\n",
              "    <tr>\n",
              "      <th>1</th>\n",
              "      <td>2-4-years-experience-needed salary full-time-job</td>\n",
              "      <td>ICR Staffing is now accepting resumes for Indu...</td>\n",
              "    </tr>\n",
              "    <tr>\n",
              "      <th>2</th>\n",
              "      <td>part-time-job</td>\n",
              "      <td>This is a great position for the right person....</td>\n",
              "    </tr>\n",
              "    <tr>\n",
              "      <th>3</th>\n",
              "      <td>licence-needed</td>\n",
              "      <td>A large multi-specialty health center is expan...</td>\n",
              "    </tr>\n",
              "    <tr>\n",
              "      <th>4</th>\n",
              "      <td>5-plus-years-experience-needed full-time-job b...</td>\n",
              "      <td>JOB PURPOSE:    The Account Director is respon...</td>\n",
              "    </tr>\n",
              "  </tbody>\n",
              "</table>\n",
              "</div>"
            ],
            "text/plain": [
              "                                                tags                                        description\n",
              "0  licence-needed supervising-job 5-plus-years-ex...  THE COMPANY    Employer is a midstream service...\n",
              "1   2-4-years-experience-needed salary full-time-job  ICR Staffing is now accepting resumes for Indu...\n",
              "2                                      part-time-job  This is a great position for the right person....\n",
              "3                                     licence-needed  A large multi-specialty health center is expan...\n",
              "4  5-plus-years-experience-needed full-time-job b...  JOB PURPOSE:    The Account Director is respon..."
            ]
          },
          "metadata": {},
          "execution_count": 30
        }
      ]
    },
    {
      "cell_type": "code",
      "metadata": {
        "id": "dc-xnuWIx97x"
      },
      "source": [
        "data = df.copy()"
      ],
      "execution_count": null,
      "outputs": []
    },
    {
      "cell_type": "code",
      "metadata": {
        "colab": {
          "base_uri": "https://localhost:8080/",
          "height": 204
        },
        "id": "pF0auQVzyaq1",
        "outputId": "d5bf1cd9-52ad-4202-ecfc-ea4f22c35b7d"
      },
      "source": [
        "data.head()"
      ],
      "execution_count": null,
      "outputs": [
        {
          "output_type": "execute_result",
          "data": {
            "text/html": [
              "<div>\n",
              "<style scoped>\n",
              "    .dataframe tbody tr th:only-of-type {\n",
              "        vertical-align: middle;\n",
              "    }\n",
              "\n",
              "    .dataframe tbody tr th {\n",
              "        vertical-align: top;\n",
              "    }\n",
              "\n",
              "    .dataframe thead th {\n",
              "        text-align: right;\n",
              "    }\n",
              "</style>\n",
              "<table border=\"1\" class=\"dataframe\">\n",
              "  <thead>\n",
              "    <tr style=\"text-align: right;\">\n",
              "      <th></th>\n",
              "      <th>tags</th>\n",
              "      <th>description</th>\n",
              "    </tr>\n",
              "  </thead>\n",
              "  <tbody>\n",
              "    <tr>\n",
              "      <th>0</th>\n",
              "      <td>licence-needed supervising-job 5-plus-years-ex...</td>\n",
              "      <td>THE COMPANY    Employer is a midstream service...</td>\n",
              "    </tr>\n",
              "    <tr>\n",
              "      <th>1</th>\n",
              "      <td>2-4-years-experience-needed salary full-time-job</td>\n",
              "      <td>ICR Staffing is now accepting resumes for Indu...</td>\n",
              "    </tr>\n",
              "    <tr>\n",
              "      <th>2</th>\n",
              "      <td>part-time-job</td>\n",
              "      <td>This is a great position for the right person....</td>\n",
              "    </tr>\n",
              "    <tr>\n",
              "      <th>3</th>\n",
              "      <td>licence-needed</td>\n",
              "      <td>A large multi-specialty health center is expan...</td>\n",
              "    </tr>\n",
              "    <tr>\n",
              "      <th>4</th>\n",
              "      <td>5-plus-years-experience-needed full-time-job b...</td>\n",
              "      <td>JOB PURPOSE:    The Account Director is respon...</td>\n",
              "    </tr>\n",
              "  </tbody>\n",
              "</table>\n",
              "</div>"
            ],
            "text/plain": [
              "                                                tags                                        description\n",
              "0  licence-needed supervising-job 5-plus-years-ex...  THE COMPANY    Employer is a midstream service...\n",
              "1   2-4-years-experience-needed salary full-time-job  ICR Staffing is now accepting resumes for Indu...\n",
              "2                                      part-time-job  This is a great position for the right person....\n",
              "3                                     licence-needed  A large multi-specialty health center is expan...\n",
              "4  5-plus-years-experience-needed full-time-job b...  JOB PURPOSE:    The Account Director is respon..."
            ]
          },
          "metadata": {},
          "execution_count": 34
        }
      ]
    },
    {
      "cell_type": "markdown",
      "metadata": {
        "id": "d24n1j83vLPY"
      },
      "source": [
        "**Data Cleaning**"
      ]
    },
    {
      "cell_type": "code",
      "metadata": {
        "id": "CXX16Lb4ziYG"
      },
      "source": [
        "df.dropna(inplace=True)"
      ],
      "execution_count": null,
      "outputs": []
    },
    {
      "cell_type": "code",
      "metadata": {
        "colab": {
          "base_uri": "https://localhost:8080/"
        },
        "id": "8jOIrhC7ziSx",
        "outputId": "a82e7c09-59a3-4234-b7f0-ad4e8088926e"
      },
      "source": [
        "df.isnull().sum()"
      ],
      "execution_count": null,
      "outputs": [
        {
          "output_type": "execute_result",
          "data": {
            "text/plain": [
              "tags           0\n",
              "description    0\n",
              "dtype: int64"
            ]
          },
          "metadata": {},
          "execution_count": 42
        }
      ]
    },
    {
      "cell_type": "code",
      "metadata": {
        "colab": {
          "base_uri": "https://localhost:8080/"
        },
        "id": "7_342uXrziPr",
        "outputId": "24f4ed01-90df-4f8f-ba4b-581eb63530bf"
      },
      "source": [
        "# load stop words\n",
        "# import nltk\n",
        "nltk.download('stopwords')\n",
        "nltk.download('wordnet')\n",
        "stop_word = stopwords.words('english')"
      ],
      "execution_count": null,
      "outputs": [
        {
          "output_type": "stream",
          "name": "stdout",
          "text": [
            "[nltk_data] Downloading package stopwords to /root/nltk_data...\n",
            "[nltk_data]   Package stopwords is already up-to-date!\n",
            "[nltk_data] Downloading package wordnet to /root/nltk_data...\n",
            "[nltk_data]   Package wordnet is already up-to-date!\n"
          ]
        }
      ]
    },
    {
      "cell_type": "markdown",
      "metadata": {
        "id": "0gRAmKRR0VGK"
      },
      "source": [
        " **Cleaning on description part**"
      ]
    },
    {
      "cell_type": "code",
      "metadata": {
        "id": "9zrwk29RziGv"
      },
      "source": [
        "def clean(text):\n",
        "    from nltk.corpus import stopwords\n",
        "\n",
        "    #     remove urls\n",
        "    text = re.sub(r'http\\S+', \" \", text)\n",
        "\n",
        "    #     remove mentions\n",
        "    text = re.sub(r'@\\w+',' ',text)\n",
        "\n",
        "    #     remove hastags\n",
        "    text = re.sub(r'#\\w+', ' ', text)\n",
        "\n",
        "    #     remove digits\n",
        "    text = re.sub(r'\\d+', ' ', text)\n",
        "\n",
        "    #     remove html tags\n",
        "    text = re.sub('r<.*?>',' ', text)\n",
        "    \n",
        "    #     remove stop words \n",
        "    text = text.split()\n",
        "    text = \" \".join([word for word in text if not word in stop_word])\n",
        "    \n",
        "      \n",
        "    return text"
      ],
      "execution_count": null,
      "outputs": []
    },
    {
      "cell_type": "code",
      "metadata": {
        "id": "MliCZz78z9ju"
      },
      "source": [
        "df['description'] = df['description'].apply(lambda x: clean(x))"
      ],
      "execution_count": null,
      "outputs": []
    },
    {
      "cell_type": "code",
      "metadata": {
        "colab": {
          "base_uri": "https://localhost:8080/",
          "height": 204
        },
        "id": "p2AZ2XrcXLa0",
        "outputId": "06fc914c-8a29-4d89-ac86-49e6eeb1a071"
      },
      "source": [
        "df.head()"
      ],
      "execution_count": null,
      "outputs": [
        {
          "output_type": "execute_result",
          "data": {
            "text/html": [
              "<div>\n",
              "<style scoped>\n",
              "    .dataframe tbody tr th:only-of-type {\n",
              "        vertical-align: middle;\n",
              "    }\n",
              "\n",
              "    .dataframe tbody tr th {\n",
              "        vertical-align: top;\n",
              "    }\n",
              "\n",
              "    .dataframe thead th {\n",
              "        text-align: right;\n",
              "    }\n",
              "</style>\n",
              "<table border=\"1\" class=\"dataframe\">\n",
              "  <thead>\n",
              "    <tr style=\"text-align: right;\">\n",
              "      <th></th>\n",
              "      <th>tags</th>\n",
              "      <th>description</th>\n",
              "    </tr>\n",
              "  </thead>\n",
              "  <tbody>\n",
              "    <tr>\n",
              "      <th>0</th>\n",
              "      <td>licence-needed supervising-job 5-plus-years-ex...</td>\n",
              "      <td>THE COMPANY Employer midstream service provide...</td>\n",
              "    </tr>\n",
              "    <tr>\n",
              "      <th>1</th>\n",
              "      <td>2-4-years-experience-needed salary full-time-job</td>\n",
              "      <td>ICR Staffing accepting resumes Industrial Main...</td>\n",
              "    </tr>\n",
              "    <tr>\n",
              "      <th>2</th>\n",
              "      <td>part-time-job</td>\n",
              "      <td>This great position right person. HEALTHCAREse...</td>\n",
              "    </tr>\n",
              "    <tr>\n",
              "      <th>3</th>\n",
              "      <td>licence-needed</td>\n",
              "      <td>A large multi-specialty health center expandin...</td>\n",
              "    </tr>\n",
              "    <tr>\n",
              "      <th>4</th>\n",
              "      <td>5-plus-years-experience-needed full-time-job b...</td>\n",
              "      <td>JOB PURPOSE: The Account Director responsible ...</td>\n",
              "    </tr>\n",
              "  </tbody>\n",
              "</table>\n",
              "</div>"
            ],
            "text/plain": [
              "                                                tags                                        description\n",
              "0  licence-needed supervising-job 5-plus-years-ex...  THE COMPANY Employer midstream service provide...\n",
              "1   2-4-years-experience-needed salary full-time-job  ICR Staffing accepting resumes Industrial Main...\n",
              "2                                      part-time-job  This great position right person. HEALTHCAREse...\n",
              "3                                     licence-needed  A large multi-specialty health center expandin...\n",
              "4  5-plus-years-experience-needed full-time-job b...  JOB PURPOSE: The Account Director responsible ..."
            ]
          },
          "metadata": {},
          "execution_count": 99
        }
      ]
    },
    {
      "cell_type": "code",
      "metadata": {
        "id": "-zU6j5-t0IBM"
      },
      "source": [
        "token=ToktokTokenizer()\n",
        "lemma=WordNetLemmatizer()\n",
        "\n",
        "def lemitizeWords(text):\n",
        "    words=token.tokenize(text)\n",
        "    listLemma=[]\n",
        "    for w in words:\n",
        "        x=lemma.lemmatize(w, pos=\"v\")\n",
        "        listLemma.append(x)\n",
        "    return ' '.join(map(str, listLemma))"
      ],
      "execution_count": null,
      "outputs": []
    },
    {
      "cell_type": "code",
      "metadata": {
        "id": "tEG0CfqE0NlL"
      },
      "source": [
        "df['description'] = df['description'].apply(\n",
        "              lambda x: lemitizeWords(x)) "
      ],
      "execution_count": null,
      "outputs": []
    },
    {
      "cell_type": "markdown",
      "metadata": {
        "id": "5ZrIVhtU0c0H"
      },
      "source": [
        "**Cleaning on Tags parts**"
      ]
    },
    {
      "cell_type": "code",
      "metadata": {
        "id": "PKZoCIoI0jRZ"
      },
      "source": [
        "df['new_tags'] = df[\"tags\"].apply(lambda x: x.split())"
      ],
      "execution_count": null,
      "outputs": []
    },
    {
      "cell_type": "code",
      "metadata": {
        "id": "pqCyQqaZ0jMB"
      },
      "source": [
        "all_tags = [item for sublist in df['new_tags'].values for item in sublist]"
      ],
      "execution_count": null,
      "outputs": []
    },
    {
      "cell_type": "code",
      "metadata": {
        "colab": {
          "base_uri": "https://localhost:8080/"
        },
        "id": "mdN8ThWD0ioA",
        "outputId": "50528583-df69-4f26-c322-10fd9625a151"
      },
      "source": [
        "len(all_tags)"
      ],
      "execution_count": null,
      "outputs": [
        {
          "output_type": "execute_result",
          "data": {
            "text/plain": [
              "6880"
            ]
          },
          "metadata": {},
          "execution_count": 104
        }
      ]
    },
    {
      "cell_type": "code",
      "metadata": {
        "colab": {
          "base_uri": "https://localhost:8080/"
        },
        "id": "DGT_VqTJ1C8I",
        "outputId": "cda0fcfc-f3fa-4690-bead-4081acd4eabe"
      },
      "source": [
        "# getting unique set\n",
        "my_set = set(all_tags)\n",
        "unique_tags = list(my_set)\n",
        "len(unique_tags)"
      ],
      "execution_count": null,
      "outputs": [
        {
          "output_type": "execute_result",
          "data": {
            "text/plain": [
              "12"
            ]
          },
          "metadata": {},
          "execution_count": 105
        }
      ]
    },
    {
      "cell_type": "markdown",
      "metadata": {
        "id": "ch94On4QBqMW"
      },
      "source": [
        "**visualisation**"
      ]
    },
    {
      "cell_type": "code",
      "metadata": {
        "id": "3kAl6EaC0hmP"
      },
      "source": [
        ""
      ],
      "execution_count": null,
      "outputs": []
    },
    {
      "cell_type": "code",
      "metadata": {
        "id": "lEUUnnrQXrww"
      },
      "source": [
        ""
      ],
      "execution_count": null,
      "outputs": []
    },
    {
      "cell_type": "markdown",
      "metadata": {
        "id": "cg9K_HTHBvZH"
      },
      "source": [
        "**train _test split**"
      ]
    },
    {
      "cell_type": "code",
      "metadata": {
        "id": "R7IVVWjt1RqQ"
      },
      "source": [
        "X = df['description']\n",
        "y = df['new_tags']"
      ],
      "execution_count": null,
      "outputs": []
    },
    {
      "cell_type": "code",
      "metadata": {
        "id": "XgYM-Gwv-e5_"
      },
      "source": [
        "x, X_test, y, y_test = train_test_split(X,y,test_size=0.2,train_size=0.8)\n",
        "X_train, X_cv, y_train, y_cv = train_test_split(x,y,test_size = 0.25,train_size =0.75)"
      ],
      "execution_count": null,
      "outputs": []
    },
    {
      "cell_type": "code",
      "metadata": {
        "colab": {
          "base_uri": "https://localhost:8080/"
        },
        "id": "3XxEPLfc-gNC",
        "outputId": "1b4e3d45-ad16-466b-ed86-e092e54ecb06"
      },
      "source": [
        "len(X_test)"
      ],
      "execution_count": null,
      "outputs": [
        {
          "output_type": "execute_result",
          "data": {
            "text/plain": [
              "701"
            ]
          },
          "metadata": {},
          "execution_count": 110
        }
      ]
    },
    {
      "cell_type": "code",
      "metadata": {
        "id": "q4BLxspP-gJ_"
      },
      "source": [
        ""
      ],
      "execution_count": null,
      "outputs": []
    },
    {
      "cell_type": "code",
      "metadata": {
        "id": "QrT1-DdN1fIf"
      },
      "source": [
        "# X_train, X_test, y_train, y_test = train_test_split(X, y,\n",
        "                                                    # test_size=0.2, random_state=0)"
      ],
      "execution_count": null,
      "outputs": []
    },
    {
      "cell_type": "code",
      "metadata": {
        "id": "GQnu-FMd2JHo"
      },
      "source": [
        "mulitlabel_binarizer = MultiLabelBinarizer()\n",
        "# y_bin = mulitlabel_binarizer.fit_transform(y)"
      ],
      "execution_count": null,
      "outputs": []
    },
    {
      "cell_type": "code",
      "metadata": {
        "id": "0RoFL54p2d-Z"
      },
      "source": [
        "y_test = mulitlabel_binarizer.fit_transform(y_test)"
      ],
      "execution_count": null,
      "outputs": []
    },
    {
      "cell_type": "code",
      "metadata": {
        "colab": {
          "base_uri": "https://localhost:8080/"
        },
        "id": "xfmlOxVt3nt7",
        "outputId": "c3ff19ad-48bc-4306-c5a4-aa8af43d086a"
      },
      "source": [
        "y_test"
      ],
      "execution_count": null,
      "outputs": [
        {
          "output_type": "execute_result",
          "data": {
            "text/plain": [
              "array([[0, 1, 0, ..., 0, 1, 0],\n",
              "       [0, 0, 1, ..., 0, 0, 1],\n",
              "       [1, 0, 0, ..., 0, 1, 0],\n",
              "       ...,\n",
              "       [0, 0, 0, ..., 1, 0, 1],\n",
              "       [0, 0, 0, ..., 0, 1, 1],\n",
              "       [0, 0, 1, ..., 0, 0, 1]])"
            ]
          },
          "metadata": {},
          "execution_count": 76
        }
      ]
    },
    {
      "cell_type": "code",
      "metadata": {
        "id": "kpTxVlwv3qki"
      },
      "source": [
        "y_train = mulitlabel_binarizer.fit_transform(y_train)"
      ],
      "execution_count": null,
      "outputs": []
    },
    {
      "cell_type": "code",
      "metadata": {
        "colab": {
          "base_uri": "https://localhost:8080/"
        },
        "id": "AYCTXl273whd",
        "outputId": "6ec654f9-3b98-4668-b510-633f08f47957"
      },
      "source": [
        "y_train"
      ],
      "execution_count": null,
      "outputs": [
        {
          "output_type": "execute_result",
          "data": {
            "text/plain": [
              "array([[0, 1, 0, ..., 1, 0, 0],\n",
              "       [0, 1, 0, ..., 0, 1, 0],\n",
              "       [0, 1, 0, ..., 0, 0, 1],\n",
              "       ...,\n",
              "       [0, 1, 0, ..., 0, 0, 1],\n",
              "       [0, 0, 1, ..., 0, 0, 0],\n",
              "       [0, 0, 1, ..., 1, 0, 1]])"
            ]
          },
          "metadata": {},
          "execution_count": 78
        }
      ]
    },
    {
      "cell_type": "code",
      "metadata": {
        "id": "X7qKLWaS_Rsn"
      },
      "source": [
        "y_cv = mulitlabel_binarizer.fit_transform(y_cv)"
      ],
      "execution_count": null,
      "outputs": []
    },
    {
      "cell_type": "code",
      "metadata": {
        "id": "MpvOYPUJ_XLh",
        "colab": {
          "base_uri": "https://localhost:8080/"
        },
        "outputId": "9dbfac51-284d-47ea-f34a-b5181f3cbab4"
      },
      "source": [
        "y_cv"
      ],
      "execution_count": null,
      "outputs": [
        {
          "output_type": "execute_result",
          "data": {
            "text/plain": [
              "array([[0, 1, 0, ..., 0, 0, 0],\n",
              "       [0, 0, 0, ..., 0, 1, 0],\n",
              "       [0, 1, 0, ..., 0, 0, 0],\n",
              "       ...,\n",
              "       [0, 0, 0, ..., 0, 0, 1],\n",
              "       [0, 1, 0, ..., 0, 0, 0],\n",
              "       [0, 0, 0, ..., 0, 0, 0]])"
            ]
          },
          "metadata": {},
          "execution_count": 115
        }
      ]
    },
    {
      "cell_type": "code",
      "metadata": {
        "id": "thb5C5xi26ZJ"
      },
      "source": [
        "vectorizer = TfidfVectorizer(analyzer = 'word',\n",
        "                                       min_df=0.0,\n",
        "                                       max_df = 1.0,\n",
        "                                       strip_accents = None,\n",
        "                                       encoding = 'utf-8', \n",
        "                                       preprocessor=None,\n",
        "                                       max_features=1000)"
      ],
      "execution_count": null,
      "outputs": []
    },
    {
      "cell_type": "code",
      "metadata": {
        "id": "R9sc0e2z2uXG"
      },
      "source": [
        "X_train = vectorizer.fit_transform(X_train)\n"
      ],
      "execution_count": null,
      "outputs": []
    },
    {
      "cell_type": "code",
      "metadata": {
        "id": "L0HCw--g4DxJ"
      },
      "source": [
        "X_test = vectorizer.fit_transform(X_test)"
      ],
      "execution_count": null,
      "outputs": []
    },
    {
      "cell_type": "code",
      "metadata": {
        "id": "D_kVQztc_bmT"
      },
      "source": [
        "X_cv = vectorizer.fit_transform(X_cv)"
      ],
      "execution_count": null,
      "outputs": []
    },
    {
      "cell_type": "markdown",
      "metadata": {
        "id": "9IlpGioX4fy-"
      },
      "source": [
        "**Training the model**"
      ]
    },
    {
      "cell_type": "code",
      "metadata": {
        "id": "7nRVqmq62uTd"
      },
      "source": [
        "def avg_jacard(y_true,y_pred):\n",
        "    '''\n",
        "    see https://en.wikipedia.org/wiki/Multi-label_classification#Statistics_and_evaluation_metrics\n",
        "    '''\n",
        "    jacard = np.minimum(y_true,y_pred).sum(axis=1) / np.maximum(y_true,y_pred).sum(axis=1)\n",
        "    \n",
        "    return jacard.mean()*100\n",
        "\n",
        "def print_score(y_pred, clf):\n",
        "    print(\"Clf: \", clf.__class__.__name__)\n",
        "    print(\"Jacard score: {}\".format(avg_jacard(y_test, y_pred)))\n",
        "    print(\"Hamming loss: {}\".format(hamming_loss(y_pred, y_test)*100))\n",
        "    print( skm.classification_report(y_test,y_pred))\n",
        "    print(\"---\") "
      ],
      "execution_count": null,
      "outputs": []
    },
    {
      "cell_type": "code",
      "metadata": {
        "colab": {
          "base_uri": "https://localhost:8080/"
        },
        "id": "fDLAPXhI2uPb",
        "outputId": "82f91cb2-d550-4c87-83c0-ab5bcbcfaffc"
      },
      "source": [
        "dummy = DummyClassifier()\n",
        "sgd = SGDClassifier()\n",
        "lr = LogisticRegression()\n",
        "mn = MultinomialNB()\n",
        "svc = LinearSVC()\n",
        "perceptron = Perceptron()\n",
        "pac = PassiveAggressiveClassifier()\n",
        "rfc = RandomForestClassifier()\n",
        "\n",
        "for classifier in [dummy, sgd, lr, mn, svc, perceptron, pac,rfc]:\n",
        "    clf = OneVsRestClassifier(classifier)\n",
        "    clf.fit(X_train, y_train)\n",
        "    y_pred = clf.predict(X_test)\n",
        "    print_score(y_pred, classifier)"
      ],
      "execution_count": null,
      "outputs": [
        {
          "output_type": "stream",
          "name": "stdout",
          "text": [
            "Clf:  DummyClassifier\n",
            "Jacard score: 11.637456694518034\n",
            "Hamming loss: 26.29576795054684\n",
            "              precision    recall  f1-score   support\n",
            "\n",
            "           0       0.13      0.14      0.13        74\n",
            "           1       0.28      0.27      0.28       209\n",
            "           2       0.13      0.16      0.14       111\n",
            "           3       0.04      0.05      0.04        44\n",
            "           4       0.26      0.28      0.27       180\n",
            "           5       0.22      0.23      0.22       173\n",
            "           6       0.11      0.10      0.11        88\n",
            "           7       0.14      0.14      0.14       109\n",
            "           8       0.05      0.06      0.05        18\n",
            "           9       0.13      0.10      0.11        79\n",
            "          10       0.20      0.21      0.21       123\n",
            "          11       0.25      0.23      0.24       154\n",
            "\n",
            "   micro avg       0.20      0.20      0.20      1362\n",
            "   macro avg       0.16      0.16      0.16      1362\n",
            "weighted avg       0.20      0.20      0.20      1362\n",
            " samples avg       0.18      0.19      0.17      1362\n",
            "\n",
            "---\n",
            "Clf:  SGDClassifier\n",
            "Jacard score: 10.630052306229194\n",
            "Hamming loss: 20.26866381359962\n",
            "              precision    recall  f1-score   support\n",
            "\n",
            "           0       0.35      0.12      0.18        74\n",
            "           1       0.32      0.16      0.22       209\n",
            "           2       0.23      0.16      0.19       111\n",
            "           3       0.11      0.02      0.04        44\n",
            "           4       0.33      0.18      0.24       180\n",
            "           5       0.19      0.09      0.12       173\n",
            "           6       0.18      0.10      0.13        88\n",
            "           7       0.32      0.17      0.22       109\n",
            "           8       0.00      0.00      0.00        18\n",
            "           9       0.15      0.03      0.04        79\n",
            "          10       0.15      0.07      0.10       123\n",
            "          11       0.27      0.21      0.24       154\n",
            "\n",
            "   micro avg       0.26      0.13      0.18      1362\n",
            "   macro avg       0.22      0.11      0.14      1362\n",
            "weighted avg       0.25      0.13      0.17      1362\n",
            " samples avg       0.18      0.14      0.14      1362\n",
            "\n",
            "---\n",
            "Clf:  LogisticRegression\n",
            "Jacard score: 0.8321445553970517\n",
            "Hamming loss: 16.25059438896814\n",
            "              precision    recall  f1-score   support\n",
            "\n",
            "           0       0.00      0.00      0.00        74\n",
            "           1       0.43      0.01      0.03       209\n",
            "           2       0.00      0.00      0.00       111\n",
            "           3       0.00      0.00      0.00        44\n",
            "           4       0.67      0.03      0.06       180\n",
            "           5       0.33      0.01      0.01       173\n",
            "           6       0.00      0.00      0.00        88\n",
            "           7       0.00      0.00      0.00       109\n",
            "           8       0.00      0.00      0.00        18\n",
            "           9       0.00      0.00      0.00        79\n",
            "          10       0.00      0.00      0.00       123\n",
            "          11       0.00      0.00      0.00       154\n",
            "\n",
            "   micro avg       0.40      0.01      0.01      1362\n",
            "   macro avg       0.12      0.00      0.01      1362\n",
            "weighted avg       0.20      0.01      0.01      1362\n",
            " samples avg       0.01      0.01      0.01      1362\n",
            "\n",
            "---\n",
            "Clf:  MultinomialNB\n",
            "Jacard score: 0.7608178792201616\n",
            "Hamming loss: 16.286257727056586\n",
            "              precision    recall  f1-score   support\n",
            "\n",
            "           0       0.00      0.00      0.00        74\n",
            "           1       0.00      0.00      0.00       209\n",
            "           2       0.00      0.00      0.00       111\n",
            "           3       0.00      0.00      0.00        44\n",
            "           4       0.37      0.04      0.07       180\n",
            "           5       0.00      0.00      0.00       173\n",
            "           6       0.00      0.00      0.00        88\n",
            "           7       0.00      0.00      0.00       109\n",
            "           8       0.00      0.00      0.00        18\n",
            "           9       0.00      0.00      0.00        79\n",
            "          10       0.00      0.00      0.00       123\n",
            "          11       0.33      0.01      0.01       154\n",
            "\n",
            "   micro avg       0.33      0.01      0.01      1362\n",
            "   macro avg       0.06      0.00      0.01      1362\n",
            "weighted avg       0.09      0.01      0.01      1362\n",
            " samples avg       0.01      0.01      0.01      1362\n",
            "\n",
            "---\n",
            "Clf:  LinearSVC\n",
            "Jacard score: 7.672372800760819\n",
            "Hamming loss: 18.52116024726581\n",
            "              precision    recall  f1-score   support\n",
            "\n",
            "           0       0.33      0.07      0.11        74\n",
            "           1       0.35      0.13      0.19       209\n",
            "           2       0.27      0.09      0.14       111\n",
            "           3       0.00      0.00      0.00        44\n",
            "           4       0.33      0.14      0.20       180\n",
            "           5       0.21      0.07      0.10       173\n",
            "           6       0.20      0.07      0.10        88\n",
            "           7       0.40      0.11      0.17       109\n",
            "           8       0.00      0.00      0.00        18\n",
            "           9       0.00      0.00      0.00        79\n",
            "          10       0.21      0.07      0.10       123\n",
            "          11       0.22      0.10      0.13       154\n",
            "\n",
            "   micro avg       0.28      0.09      0.14      1362\n",
            "   macro avg       0.21      0.07      0.10      1362\n",
            "weighted avg       0.25      0.09      0.13      1362\n",
            " samples avg       0.14      0.09      0.10      1362\n",
            "\n",
            "---\n",
            "Clf:  Perceptron\n",
            "Jacard score: 12.577949867536173\n",
            "Hamming loss: 26.29576795054684\n",
            "              precision    recall  f1-score   support\n",
            "\n",
            "           0       0.12      0.11      0.11        74\n",
            "           1       0.34      0.29      0.31       209\n",
            "           2       0.13      0.23      0.17       111\n",
            "           3       0.09      0.09      0.09        44\n",
            "           4       0.25      0.24      0.25       180\n",
            "           5       0.21      0.16      0.18       173\n",
            "           6       0.12      0.16      0.14        88\n",
            "           7       0.21      0.22      0.22       109\n",
            "           8       0.00      0.00      0.00        18\n",
            "           9       0.07      0.05      0.06        79\n",
            "          10       0.15      0.15      0.15       123\n",
            "          11       0.27      0.32      0.29       154\n",
            "\n",
            "   micro avg       0.20      0.21      0.20      1362\n",
            "   macro avg       0.16      0.17      0.16      1362\n",
            "weighted avg       0.20      0.21      0.20      1362\n",
            " samples avg       0.19      0.21      0.18      1362\n",
            "\n",
            "---\n",
            "Clf:  PassiveAggressiveClassifier\n",
            "Jacard score: 12.665919434821001\n",
            "Hamming loss: 26.69995244888255\n",
            "              precision    recall  f1-score   support\n",
            "\n",
            "           0       0.12      0.16      0.14        74\n",
            "           1       0.35      0.34      0.35       209\n",
            "           2       0.15      0.23      0.18       111\n",
            "           3       0.09      0.07      0.08        44\n",
            "           4       0.23      0.26      0.25       180\n",
            "           5       0.21      0.16      0.18       173\n",
            "           6       0.11      0.17      0.14        88\n",
            "           7       0.19      0.21      0.20       109\n",
            "           8       0.00      0.00      0.00        18\n",
            "           9       0.11      0.06      0.08        79\n",
            "          10       0.15      0.20      0.17       123\n",
            "          11       0.25      0.29      0.27       154\n",
            "\n",
            "   micro avg       0.20      0.22      0.21      1362\n",
            "   macro avg       0.17      0.18      0.17      1362\n",
            "weighted avg       0.20      0.22      0.21      1362\n",
            " samples avg       0.19      0.22      0.18      1362\n",
            "\n",
            "---\n",
            "Clf:  RandomForestClassifier\n",
            "Jacard score: 2.2705658582976698\n",
            "Hamming loss: 16.191155492154067\n",
            "              precision    recall  f1-score   support\n",
            "\n",
            "           0       0.00      0.00      0.00        74\n",
            "           1       0.50      0.06      0.11       209\n",
            "           2       0.00      0.00      0.00       111\n",
            "           3       0.00      0.00      0.00        44\n",
            "           4       0.50      0.08      0.13       180\n",
            "           5       0.50      0.01      0.01       173\n",
            "           6       1.00      0.01      0.02        88\n",
            "           7       1.00      0.02      0.04       109\n",
            "           8       0.00      0.00      0.00        18\n",
            "           9       0.00      0.00      0.00        79\n",
            "          10       0.00      0.00      0.00       123\n",
            "          11       0.00      0.00      0.00       154\n",
            "\n",
            "   micro avg       0.50      0.02      0.04      1362\n",
            "   macro avg       0.29      0.01      0.03      1362\n",
            "weighted avg       0.35      0.02      0.04      1362\n",
            " samples avg       0.04      0.02      0.03      1362\n",
            "\n",
            "---\n"
          ]
        }
      ]
    },
    {
      "cell_type": "markdown",
      "metadata": {
        "id": "v06cDTdt_sXc"
      },
      "source": [
        "**Hyperparameter tuning**"
      ]
    },
    {
      "cell_type": "code",
      "metadata": {
        "colab": {
          "base_uri": "https://localhost:8080/"
        },
        "id": "R58DhL_X6kM2",
        "outputId": "f4bd985b-41b4-4eab-a44f-f9aa0ee17a8b"
      },
      "source": [
        "param_grid = {'estimator__C':[1,10,100,1000]}\n",
        "\n",
        "svc = OneVsRestClassifier(LinearSVC())\n",
        "CV_svc = model_selection.GridSearchCV(estimator=svc, \n",
        "                                      param_grid=param_grid, cv= 5, \n",
        "                                      verbose=10)\n",
        "CV_svc.fit(X_cv, y_cv)"
      ],
      "execution_count": 143,
      "outputs": [
        {
          "output_type": "stream",
          "name": "stdout",
          "text": [
            "Fitting 5 folds for each of 4 candidates, totalling 20 fits\n",
            "[CV] estimator__C=1 ..................................................\n",
            "[CV] ...................... estimator__C=1, score=0.113, total=   0.1s\n",
            "[CV] estimator__C=1 ..................................................\n",
            "[CV] ...................... estimator__C=1, score=0.114, total=   0.1s\n",
            "[CV] estimator__C=1 ..................................................\n"
          ]
        },
        {
          "output_type": "stream",
          "name": "stderr",
          "text": [
            "[Parallel(n_jobs=1)]: Using backend SequentialBackend with 1 concurrent workers.\n",
            "[Parallel(n_jobs=1)]: Done   1 out of   1 | elapsed:    0.1s remaining:    0.0s\n",
            "[Parallel(n_jobs=1)]: Done   2 out of   2 | elapsed:    0.2s remaining:    0.0s\n"
          ]
        },
        {
          "output_type": "stream",
          "name": "stdout",
          "text": [
            "[CV] ...................... estimator__C=1, score=0.093, total=   0.1s\n",
            "[CV] estimator__C=1 ..................................................\n",
            "[CV] ...................... estimator__C=1, score=0.064, total=   0.1s\n",
            "[CV] estimator__C=1 ..................................................\n",
            "[CV] ...................... estimator__C=1, score=0.150, total=   0.1s\n",
            "[CV] estimator__C=10 .................................................\n"
          ]
        },
        {
          "output_type": "stream",
          "name": "stderr",
          "text": [
            "[Parallel(n_jobs=1)]: Done   3 out of   3 | elapsed:    0.2s remaining:    0.0s\n",
            "[Parallel(n_jobs=1)]: Done   4 out of   4 | elapsed:    0.3s remaining:    0.0s\n",
            "[Parallel(n_jobs=1)]: Done   5 out of   5 | elapsed:    0.4s remaining:    0.0s\n"
          ]
        },
        {
          "output_type": "stream",
          "name": "stdout",
          "text": [
            "[CV] ..................... estimator__C=10, score=0.099, total=   0.1s\n",
            "[CV] estimator__C=10 .................................................\n",
            "[CV] ..................... estimator__C=10, score=0.100, total=   0.1s\n",
            "[CV] estimator__C=10 .................................................\n"
          ]
        },
        {
          "output_type": "stream",
          "name": "stderr",
          "text": [
            "[Parallel(n_jobs=1)]: Done   6 out of   6 | elapsed:    0.5s remaining:    0.0s\n",
            "[Parallel(n_jobs=1)]: Done   7 out of   7 | elapsed:    0.6s remaining:    0.0s\n"
          ]
        },
        {
          "output_type": "stream",
          "name": "stdout",
          "text": [
            "[CV] ..................... estimator__C=10, score=0.129, total=   0.1s\n",
            "[CV] estimator__C=10 .................................................\n",
            "[CV] ..................... estimator__C=10, score=0.086, total=   0.1s\n",
            "[CV] estimator__C=10 .................................................\n"
          ]
        },
        {
          "output_type": "stream",
          "name": "stderr",
          "text": [
            "[Parallel(n_jobs=1)]: Done   8 out of   8 | elapsed:    0.8s remaining:    0.0s\n",
            "[Parallel(n_jobs=1)]: Done   9 out of   9 | elapsed:    0.9s remaining:    0.0s\n"
          ]
        },
        {
          "output_type": "stream",
          "name": "stdout",
          "text": [
            "[CV] ..................... estimator__C=10, score=0.143, total=   0.1s\n",
            "[CV] estimator__C=100 ................................................\n",
            "[CV] .................... estimator__C=100, score=0.106, total=   0.2s\n",
            "[CV] estimator__C=100 ................................................\n",
            "[CV] .................... estimator__C=100, score=0.093, total=   0.2s\n",
            "[CV] estimator__C=100 ................................................\n",
            "[CV] .................... estimator__C=100, score=0.121, total=   0.2s\n",
            "[CV] estimator__C=100 ................................................\n",
            "[CV] .................... estimator__C=100, score=0.071, total=   0.1s\n",
            "[CV] estimator__C=100 ................................................\n",
            "[CV] .................... estimator__C=100, score=0.129, total=   0.2s\n",
            "[CV] estimator__C=1000 ...............................................\n",
            "[CV] ................... estimator__C=1000, score=0.106, total=   0.2s\n",
            "[CV] estimator__C=1000 ...............................................\n",
            "[CV] ................... estimator__C=1000, score=0.093, total=   0.2s\n",
            "[CV] estimator__C=1000 ...............................................\n",
            "[CV] ................... estimator__C=1000, score=0.129, total=   0.2s\n",
            "[CV] estimator__C=1000 ...............................................\n",
            "[CV] ................... estimator__C=1000, score=0.071, total=   0.2s\n",
            "[CV] estimator__C=1000 ...............................................\n",
            "[CV] ................... estimator__C=1000, score=0.129, total=   0.2s\n"
          ]
        },
        {
          "output_type": "stream",
          "name": "stderr",
          "text": [
            "[Parallel(n_jobs=1)]: Done  20 out of  20 | elapsed:    2.7s finished\n"
          ]
        },
        {
          "output_type": "execute_result",
          "data": {
            "text/plain": [
              "GridSearchCV(cv=5, error_score=nan,\n",
              "             estimator=OneVsRestClassifier(estimator=LinearSVC(C=1.0,\n",
              "                                                               class_weight=None,\n",
              "                                                               dual=True,\n",
              "                                                               fit_intercept=True,\n",
              "                                                               intercept_scaling=1,\n",
              "                                                               loss='squared_hinge',\n",
              "                                                               max_iter=1000,\n",
              "                                                               multi_class='ovr',\n",
              "                                                               penalty='l2',\n",
              "                                                               random_state=None,\n",
              "                                                               tol=0.0001,\n",
              "                                                               verbose=0),\n",
              "                                           n_jobs=None),\n",
              "             iid='deprecated', n_jobs=None,\n",
              "             param_grid={'estimator__C': [1, 10, 100, 1000]},\n",
              "             pre_dispatch='2*n_jobs', refit=True, return_train_score=False,\n",
              "             scoring=None, verbose=10)"
            ]
          },
          "metadata": {},
          "execution_count": 143
        }
      ]
    },
    {
      "cell_type": "code",
      "metadata": {
        "id": "u7IjEXqP6kFO",
        "colab": {
          "base_uri": "https://localhost:8080/"
        },
        "outputId": "44043d24-87f9-4c50-a853-83f79f193eb7"
      },
      "source": [
        "best_model = CV_svc.best_estimator_\n",
        "\n",
        "best_model"
      ],
      "execution_count": 129,
      "outputs": [
        {
          "output_type": "execute_result",
          "data": {
            "text/plain": [
              "OneVsRestClassifier(estimator=LinearSVC(C=10, class_weight=None, dual=True,\n",
              "                                        fit_intercept=True, intercept_scaling=1,\n",
              "                                        loss='squared_hinge', max_iter=1000,\n",
              "                                        multi_class='ovr', penalty='l2',\n",
              "                                        random_state=None, tol=0.0001,\n",
              "                                        verbose=0),\n",
              "                    n_jobs=None)"
            ]
          },
          "metadata": {},
          "execution_count": 129
        }
      ]
    },
    {
      "cell_type": "code",
      "metadata": {
        "id": "M1fH3LC52uKj",
        "colab": {
          "base_uri": "https://localhost:8080/"
        },
        "outputId": "ef18cac7-eec0-446b-c429-dfe1ffbf629b"
      },
      "source": [
        "y_pred = best_model.predict(X_test)\n",
        "\n",
        "print_score(y_pred, best_model)\n",
        "# hamming loss is fraction which is wrongly predicted"
      ],
      "execution_count": 134,
      "outputs": [
        {
          "output_type": "stream",
          "name": "stdout",
          "text": [
            "Clf:  OneVsRestClassifier\n",
            "Jacard score: 10.511174512601047\n",
            "Hamming loss: 19.65049928673324\n",
            "              precision    recall  f1-score   support\n",
            "\n",
            "           0       0.14      0.04      0.06        74\n",
            "           1       0.20      0.08      0.12       209\n",
            "           2       0.25      0.25      0.25       111\n",
            "           3       0.14      0.02      0.04        44\n",
            "           4       0.42      0.23      0.30       180\n",
            "           5       0.32      0.16      0.21       173\n",
            "           6       0.20      0.09      0.13        88\n",
            "           7       0.39      0.08      0.14       109\n",
            "           8       0.00      0.00      0.00        18\n",
            "           9       0.27      0.04      0.07        79\n",
            "          10       0.18      0.10      0.13       123\n",
            "          11       0.29      0.19      0.23       154\n",
            "\n",
            "   micro avg       0.28      0.13      0.18      1362\n",
            "   macro avg       0.23      0.11      0.14      1362\n",
            "weighted avg       0.27      0.13      0.17      1362\n",
            " samples avg       0.18      0.13      0.14      1362\n",
            "\n",
            "---\n"
          ]
        }
      ]
    },
    {
      "cell_type": "code",
      "metadata": {
        "colab": {
          "base_uri": "https://localhost:8080/"
        },
        "id": "1KLEj1tlDGHn",
        "outputId": "fec3acb5-e765-483e-f8fb-53de97880d31"
      },
      "source": [
        "for i in range(y_train.shape[1]):\n",
        "    print(mulitlabel_binarizer.classes_[i])\n",
        "    print(confusion_matrix(y_test[:,i], y_pred[:,i]))\n",
        "    print(\"\")"
      ],
      "execution_count": 133,
      "outputs": [
        {
          "output_type": "stream",
          "name": "stdout",
          "text": [
            "1-year-experience-needed\n",
            "[[609  18]\n",
            " [ 71   3]]\n",
            "\n",
            "2-4-years-experience-needed\n",
            "[[426  66]\n",
            " [192  17]]\n",
            "\n",
            "5-plus-years-experience-needed\n",
            "[[506  84]\n",
            " [ 83  28]]\n",
            "\n",
            "associate-needed\n",
            "[[651   6]\n",
            " [ 43   1]]\n",
            "\n",
            "bs-degree-needed\n",
            "[[463  58]\n",
            " [138  42]]\n",
            "\n",
            "full-time-job\n",
            "[[471  57]\n",
            " [146  27]]\n",
            "\n",
            "hourly-wage\n",
            "[[581  32]\n",
            " [ 80   8]]\n",
            "\n",
            "licence-needed\n",
            "[[578  14]\n",
            " [100   9]]\n",
            "\n",
            "ms-or-phd-needed\n",
            "[[683   0]\n",
            " [ 18   0]]\n",
            "\n",
            "part-time-job\n",
            "[[614   8]\n",
            " [ 76   3]]\n",
            "\n",
            "salary\n",
            "[[522  56]\n",
            " [111  12]]\n",
            "\n",
            "supervising-job\n",
            "[[476  71]\n",
            " [125  29]]\n",
            "\n"
          ]
        }
      ]
    },
    {
      "cell_type": "markdown",
      "metadata": {
        "id": "aH9lT59tEK1j"
      },
      "source": [
        "**Feature importance**"
      ]
    },
    {
      "cell_type": "code",
      "metadata": {
        "id": "LoSeK2b8DGDU"
      },
      "source": [
        "def print_top10(feature_names, clf, class_labels):\n",
        "    \"\"\"Prints features with the highest coefficient values, per class\"\"\"\n",
        "    for i, class_label in enumerate(class_labels):\n",
        "        top10 = np.argsort(clf.coef_[i])[-10:]\n",
        "        print(\"--------------------------------------------\")\n",
        "        print(\"%s: %s\" % (class_label,\n",
        "              \" \".join(feature_names[j] for j in top10)))\n",
        "        print(\"--------------------------------------------\")"
      ],
      "execution_count": 135,
      "outputs": []
    },
    {
      "cell_type": "code",
      "metadata": {
        "id": "xTYBGce5EY4k"
      },
      "source": [
        "feature_names = vectorizer.get_feature_names() "
      ],
      "execution_count": 136,
      "outputs": []
    },
    {
      "cell_type": "code",
      "metadata": {
        "colab": {
          "base_uri": "https://localhost:8080/"
        },
        "id": "OnFPFooBEbV_",
        "outputId": "22c8a0ea-7da7-4139-c0d4-79a96f44ffca"
      },
      "source": [
        "print_top10(feature_names, best_model,\n",
        "            mulitlabel_binarizer.classes_)"
      ],
      "execution_count": 137,
      "outputs": [
        {
          "output_type": "stream",
          "name": "stdout",
          "text": [
            "--------------------------------------------\n",
            "1-year-experience-needed: principles coach drive diploma service world patient accredit one year\n",
            "--------------------------------------------\n",
            "--------------------------------------------\n",
            "2-4-years-experience-needed: server efficiency skills exceed equipment accounts restaurant prefer two years\n",
            "--------------------------------------------\n",
            "--------------------------------------------\n",
            "5-plus-years-experience-needed: broker repair letter leadership highly key five complex responsible years\n",
            "--------------------------------------------\n",
            "--------------------------------------------\n",
            "associate-needed: members associate assistant visit relate education student payroll degree associates\n",
            "--------------------------------------------\n",
            "--------------------------------------------\n",
            "bs-degree-needed: relationship approach assign communications regulations bs bachelors science degree bachelor\n",
            "--------------------------------------------\n",
            "--------------------------------------------\n",
            "full-time-job: south requires solutions required right unit price corporate hours full\n",
            "--------------------------------------------\n",
            "--------------------------------------------\n",
            "hourly-wage: members every inquiries pay issue hr email per hour hourly\n",
            "--------------------------------------------\n",
            "--------------------------------------------\n",
            "licence-needed: government mail license certified open bonus rn professional join certification\n",
            "--------------------------------------------\n",
            "--------------------------------------------\n",
            "ms-or-phd-needed: top program contract shall president research clinical curriculum therapy master\n",
            "--------------------------------------------\n",
            "--------------------------------------------\n",
            "part-time-job: medical client not field hours office time pet reliable part\n",
            "--------------------------------------------\n",
            "--------------------------------------------\n",
            "salary: healthcare competitive year draw shall crm benefit manager prospect salary\n",
            "--------------------------------------------\n",
            "--------------------------------------------\n",
            "supervising-job: leadership manage volunteer personnel lead thorough supervise ensure curriculum manager\n",
            "--------------------------------------------\n"
          ]
        }
      ]
    },
    {
      "cell_type": "code",
      "metadata": {
        "id": "OAqLYgE4EoJo"
      },
      "source": [
        ""
      ],
      "execution_count": null,
      "outputs": []
    },
    {
      "cell_type": "markdown",
      "metadata": {
        "id": "7A-OQzV3Eo0u"
      },
      "source": [
        "**Testing**"
      ]
    },
    {
      "cell_type": "code",
      "metadata": {
        "id": "UMkBuViTEsi1"
      },
      "source": [
        "classes = mulitlabel_binarizer.classes_"
      ],
      "execution_count": 138,
      "outputs": []
    },
    {
      "cell_type": "code",
      "metadata": {
        "colab": {
          "base_uri": "https://localhost:8080/",
          "height": 35
        },
        "id": "uAe1pk0dEyHw",
        "outputId": "b966b79d-1ac1-47d2-ec01-1406f61b8c07"
      },
      "source": [
        "classes[7]"
      ],
      "execution_count": 139,
      "outputs": [
        {
          "output_type": "execute_result",
          "data": {
            "application/vnd.google.colaboratory.intrinsic+json": {
              "type": "string"
            },
            "text/plain": [
              "'licence-needed'"
            ]
          },
          "metadata": {},
          "execution_count": 139
        }
      ]
    },
    {
      "cell_type": "code",
      "metadata": {
        "id": "s4bz7e4cEx_y"
      },
      "source": [
        "# to match index with class name\n",
        "def print_class(arr):\n",
        "  for index, value in enumerate(arr):\n",
        "    if value == 1:\n",
        "      print(classes[index])   \n",
        "    "
      ],
      "execution_count": 140,
      "outputs": []
    },
    {
      "cell_type": "code",
      "metadata": {
        "colab": {
          "base_uri": "https://localhost:8080/"
        },
        "id": "vKrJi56RE8Z2",
        "outputId": "49bf6ddd-544c-4f12-f98e-3de538d5be10"
      },
      "source": [
        "test = \"\"\"\n",
        "this job is for driver you'll have to have a bike in order to deliver the products\n",
        "and also you need a helmat for your safety and need a license and it's also part time\n",
        "\"\"\"\n",
        "\n",
        "# test = df['description'][549]\n",
        "\n",
        "# clean\n",
        "test  = clean(test)\n",
        "\n",
        "# tfidf\n",
        "tf = vectorizer.transform([test])\n",
        "\n",
        "# predict\n",
        "pred = best_model.predict(tf)[0]\n",
        "pred = list(pred)\n",
        "\n",
        "print_class(pred)\n",
        "\n",
        "# predict the output\n",
        "# print_class(best_model.predict(tf))"
      ],
      "execution_count": 141,
      "outputs": [
        {
          "output_type": "stream",
          "name": "stdout",
          "text": [
            "licence-needed\n",
            "part-time-job\n"
          ]
        }
      ]
    }
  ]
}