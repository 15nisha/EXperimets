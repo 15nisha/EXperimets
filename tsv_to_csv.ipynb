{
  "nbformat": 4,
  "nbformat_minor": 0,
  "metadata": {
    "colab": {
      "name": "tsv_to_csv.ipynb",
      "provenance": [],
      "authorship_tag": "ABX9TyP7glRg0b0FdLBZYJOaVSm/",
      "include_colab_link": true
    },
    "kernelspec": {
      "name": "python3",
      "display_name": "Python 3"
    },
    "language_info": {
      "name": "python"
    }
  },
  "cells": [
    {
      "cell_type": "markdown",
      "metadata": {
        "id": "view-in-github",
        "colab_type": "text"
      },
      "source": [
        "<a href=\"https://colab.research.google.com/github/15nisha/EXperimets/blob/main/tsv_to_csv.ipynb\" target=\"_parent\"><img src=\"https://colab.research.google.com/assets/colab-badge.svg\" alt=\"Open In Colab\"/></a>"
      ]
    },
    {
      "cell_type": "code",
      "metadata": {
        "id": "nKUGjH4p80R7"
      },
      "source": [
        "import warnings\n",
        "warnings.filterwarnings(\"ignore\")\n",
        "import os\n",
        "import re\n",
        "import pandas as pd\n",
        "import numpy as np\n",
        "import sqlite3\n",
        "import matplotlib.pyplot as plt\n",
        "import seaborn as sns\n",
        "import numpy as np\n",
        "from scipy import sparse\n",
        "from wordcloud import WordCloud\n",
        "from sqlalchemy import create_engine # database connection\n",
        "from datetime import datetime\n",
        "from sklearn.feature_extraction.text import CountVectorizer\n",
        "from sklearn.feature_extraction.text import TfidfVectorizer\n",
        "from sklearn.multiclass import OneVsRestClassifier\n",
        "from sklearn.linear_model import SGDClassifier\n",
        "from sklearn.metrics import f1_score,precision_score,recall_score\n",
        "from sklearn.metrics import classification_report\n",
        "from sklearn.metrics import accuracy_score\n",
        "from nltk.corpus import stopwords\n",
        "from nltk.tokenize import word_tokenize\n",
        "from nltk.stem.snowball import SnowballStemmer"
      ],
      "execution_count": 2,
      "outputs": []
    },
    {
      "cell_type": "code",
      "metadata": {
        "colab": {
          "base_uri": "https://localhost:8080/"
        },
        "id": "7ItVUA6_H7yE",
        "outputId": "123bd9f0-d156-44f7-94a4-2f87a458ba3f"
      },
      "source": [
        "from google.colab import drive\n",
        "drive.mount('/content/drive')"
      ],
      "execution_count": 3,
      "outputs": [
        {
          "output_type": "stream",
          "name": "stdout",
          "text": [
            "Mounted at /content/drive\n"
          ]
        }
      ]
    },
    {
      "cell_type": "code",
      "metadata": {
        "id": "lesZ1iy1IGFx"
      },
      "source": [
        "csv_table = pd.read_csv('/content/drive/MyDrive/Module3/data/dat/train.tsv',sep='\\t')\n",
        "csv_table.to_csv('new_name.csv',index=False)\n"
      ],
      "execution_count": 4,
      "outputs": []
    },
    {
      "cell_type": "code",
      "metadata": {
        "colab": {
          "base_uri": "https://localhost:8080/"
        },
        "id": "4A1LPs2qjV0L",
        "outputId": "9e8dbcd8-6473-4a02-e61f-6531045d0281"
      },
      "source": [
        "from google.colab import drive\n",
        "drive.mount('drive')"
      ],
      "execution_count": 5,
      "outputs": [
        {
          "output_type": "stream",
          "name": "stdout",
          "text": [
            "Drive already mounted at drive; to attempt to forcibly remount, call drive.mount(\"drive\", force_remount=True).\n"
          ]
        }
      ]
    },
    {
      "cell_type": "code",
      "metadata": {
        "id": "RCDfurOcjhvf"
      },
      "source": [
        "# csv_table.to_csv('data.csv')\n",
        "# !cp data.csv \"drive/My Drive/\""
      ],
      "execution_count": null,
      "outputs": []
    },
    {
      "cell_type": "code",
      "metadata": {
        "colab": {
          "base_uri": "https://localhost:8080/",
          "height": 204
        },
        "id": "KSTjt5J8Ise4",
        "outputId": "1b561716-a829-4404-e0fb-a5d21dd089e6"
      },
      "source": [
        "csv_table.head()"
      ],
      "execution_count": null,
      "outputs": [
        {
          "output_type": "execute_result",
          "data": {
            "text/html": [
              "<div>\n",
              "<style scoped>\n",
              "    .dataframe tbody tr th:only-of-type {\n",
              "        vertical-align: middle;\n",
              "    }\n",
              "\n",
              "    .dataframe tbody tr th {\n",
              "        vertical-align: top;\n",
              "    }\n",
              "\n",
              "    .dataframe thead th {\n",
              "        text-align: right;\n",
              "    }\n",
              "</style>\n",
              "<table border=\"1\" class=\"dataframe\">\n",
              "  <thead>\n",
              "    <tr style=\"text-align: right;\">\n",
              "      <th></th>\n",
              "      <th>tags</th>\n",
              "      <th>description</th>\n",
              "    </tr>\n",
              "  </thead>\n",
              "  <tbody>\n",
              "    <tr>\n",
              "      <th>0</th>\n",
              "      <td>licence-needed supervising-job 5-plus-years-ex...</td>\n",
              "      <td>THE COMPANY    Employer is a midstream service...</td>\n",
              "    </tr>\n",
              "    <tr>\n",
              "      <th>1</th>\n",
              "      <td>2-4-years-experience-needed salary full-time-job</td>\n",
              "      <td>ICR Staffing is now accepting resumes for Indu...</td>\n",
              "    </tr>\n",
              "    <tr>\n",
              "      <th>2</th>\n",
              "      <td>part-time-job</td>\n",
              "      <td>This is a great position for the right person....</td>\n",
              "    </tr>\n",
              "    <tr>\n",
              "      <th>3</th>\n",
              "      <td>licence-needed</td>\n",
              "      <td>A large multi-specialty health center is expan...</td>\n",
              "    </tr>\n",
              "    <tr>\n",
              "      <th>4</th>\n",
              "      <td>5-plus-years-experience-needed full-time-job b...</td>\n",
              "      <td>JOB PURPOSE:    The Account Director is respon...</td>\n",
              "    </tr>\n",
              "  </tbody>\n",
              "</table>\n",
              "</div>"
            ],
            "text/plain": [
              "                                                tags                                        description\n",
              "0  licence-needed supervising-job 5-plus-years-ex...  THE COMPANY    Employer is a midstream service...\n",
              "1   2-4-years-experience-needed salary full-time-job  ICR Staffing is now accepting resumes for Indu...\n",
              "2                                      part-time-job  This is a great position for the right person....\n",
              "3                                     licence-needed  A large multi-specialty health center is expan...\n",
              "4  5-plus-years-experience-needed full-time-job b...  JOB PURPOSE:    The Account Director is respon..."
            ]
          },
          "metadata": {},
          "execution_count": 7
        }
      ]
    },
    {
      "cell_type": "code",
      "metadata": {
        "colab": {
          "base_uri": "https://localhost:8080/"
        },
        "id": "NiAakyXlYuAu",
        "outputId": "ae099598-b386-4b88-a9b0-dad7e31ad07b"
      },
      "source": [
        "len(csv_table)"
      ],
      "execution_count": null,
      "outputs": [
        {
          "output_type": "execute_result",
          "data": {
            "text/plain": [
              "4375"
            ]
          },
          "metadata": {},
          "execution_count": 6
        }
      ]
    },
    {
      "cell_type": "code",
      "metadata": {
        "colab": {
          "base_uri": "https://localhost:8080/"
        },
        "id": "CIWoH2myI0YZ",
        "outputId": "300f2e21-6aed-4a10-edbc-47eeac0b13ab"
      },
      "source": [
        "csv_table['tags'][:9]"
      ],
      "execution_count": null,
      "outputs": [
        {
          "output_type": "execute_result",
          "data": {
            "text/plain": [
              "0    licence-needed supervising-job 5-plus-years-ex...\n",
              "1     2-4-years-experience-needed salary full-time-job\n",
              "2                                        part-time-job\n",
              "3                                       licence-needed\n",
              "4    5-plus-years-experience-needed full-time-job b...\n",
              "5      associate-needed 5-plus-years-experience-needed\n",
              "6    full-time-job ms-or-phd-needed 5-plus-years-ex...\n",
              "7      bs-degree-needed 5-plus-years-experience-needed\n",
              "8         bs-degree-needed 2-4-years-experience-needed\n",
              "Name: tags, dtype: object"
            ]
          },
          "metadata": {},
          "execution_count": 7
        }
      ]
    },
    {
      "cell_type": "code",
      "metadata": {
        "colab": {
          "base_uri": "https://localhost:8080/"
        },
        "id": "p-Z8ErTZ-jgv",
        "outputId": "0237284b-5ed3-4889-e221-419b2d31b7c8"
      },
      "source": [
        "csv_table.columns"
      ],
      "execution_count": 23,
      "outputs": [
        {
          "output_type": "execute_result",
          "data": {
            "text/plain": [
              "Index(['tags', 'description'], dtype='object')"
            ]
          },
          "metadata": {},
          "execution_count": 23
        }
      ]
    },
    {
      "cell_type": "code",
      "metadata": {
        "colab": {
          "base_uri": "https://localhost:8080/"
        },
        "id": "xPRf4HxnYdDD",
        "outputId": "c42feded-796e-47e5-d5fc-f60715d8d13f"
      },
      "source": [
        "csv_table['tags'].value_counts()"
      ],
      "execution_count": 24,
      "outputs": [
        {
          "output_type": "execute_result",
          "data": {
            "text/plain": [
              "2-4-years-experience-needed                                         214\n",
              "licence-needed                                                      165\n",
              "full-time-job                                                       137\n",
              "hourly-wage                                                         119\n",
              "part-time-job                                                       118\n",
              "                                                                   ... \n",
              "supervising-job licence-needed salary                                 1\n",
              "bs-degree-needed supervising-job full-time-job salary                 1\n",
              "full-time-job salary 2-4-years-experience-needed licence-needed       1\n",
              "2-4-years-experience-needed full-time-job salary supervising-job      1\n",
              "part-time-job bs-degree-needed hourly-wage                            1\n",
              "Name: tags, Length: 595, dtype: int64"
            ]
          },
          "metadata": {},
          "execution_count": 24
        }
      ]
    },
    {
      "cell_type": "code",
      "metadata": {
        "id": "fy_PjhFs9DHc"
      },
      "source": [
        "uniq_table=csv_table.drop_duplicates(subset=['tags', 'description'], keep=False)"
      ],
      "execution_count": 25,
      "outputs": []
    },
    {
      "cell_type": "code",
      "metadata": {
        "colab": {
          "base_uri": "https://localhost:8080/"
        },
        "id": "m_LBBhVG-qdf",
        "outputId": "a2f7b36a-1e95-4fe7-d7c1-9be50e289828"
      },
      "source": [
        "len(csv_table)"
      ],
      "execution_count": null,
      "outputs": [
        {
          "output_type": "execute_result",
          "data": {
            "text/plain": [
              "4375"
            ]
          },
          "metadata": {},
          "execution_count": 14
        }
      ]
    },
    {
      "cell_type": "code",
      "metadata": {
        "id": "PITnGVuLDShQ",
        "colab": {
          "base_uri": "https://localhost:8080/",
          "height": 204
        },
        "outputId": "e5f82e1f-57d9-42f8-ba5a-42bede37f984"
      },
      "source": [
        "uniq_table.head()"
      ],
      "execution_count": 26,
      "outputs": [
        {
          "output_type": "execute_result",
          "data": {
            "text/html": [
              "<div>\n",
              "<style scoped>\n",
              "    .dataframe tbody tr th:only-of-type {\n",
              "        vertical-align: middle;\n",
              "    }\n",
              "\n",
              "    .dataframe tbody tr th {\n",
              "        vertical-align: top;\n",
              "    }\n",
              "\n",
              "    .dataframe thead th {\n",
              "        text-align: right;\n",
              "    }\n",
              "</style>\n",
              "<table border=\"1\" class=\"dataframe\">\n",
              "  <thead>\n",
              "    <tr style=\"text-align: right;\">\n",
              "      <th></th>\n",
              "      <th>tags</th>\n",
              "      <th>description</th>\n",
              "    </tr>\n",
              "  </thead>\n",
              "  <tbody>\n",
              "    <tr>\n",
              "      <th>0</th>\n",
              "      <td>licence-needed supervising-job 5-plus-years-ex...</td>\n",
              "      <td>THE COMPANY    Employer is a midstream service...</td>\n",
              "    </tr>\n",
              "    <tr>\n",
              "      <th>1</th>\n",
              "      <td>2-4-years-experience-needed salary full-time-job</td>\n",
              "      <td>ICR Staffing is now accepting resumes for Indu...</td>\n",
              "    </tr>\n",
              "    <tr>\n",
              "      <th>2</th>\n",
              "      <td>part-time-job</td>\n",
              "      <td>This is a great position for the right person....</td>\n",
              "    </tr>\n",
              "    <tr>\n",
              "      <th>3</th>\n",
              "      <td>licence-needed</td>\n",
              "      <td>A large multi-specialty health center is expan...</td>\n",
              "    </tr>\n",
              "    <tr>\n",
              "      <th>4</th>\n",
              "      <td>5-plus-years-experience-needed full-time-job b...</td>\n",
              "      <td>JOB PURPOSE:    The Account Director is respon...</td>\n",
              "    </tr>\n",
              "  </tbody>\n",
              "</table>\n",
              "</div>"
            ],
            "text/plain": [
              "                                                tags                                        description\n",
              "0  licence-needed supervising-job 5-plus-years-ex...  THE COMPANY    Employer is a midstream service...\n",
              "1   2-4-years-experience-needed salary full-time-job  ICR Staffing is now accepting resumes for Indu...\n",
              "2                                      part-time-job  This is a great position for the right person....\n",
              "3                                     licence-needed  A large multi-specialty health center is expan...\n",
              "4  5-plus-years-experience-needed full-time-job b...  JOB PURPOSE:    The Account Director is respon..."
            ]
          },
          "metadata": {},
          "execution_count": 26
        }
      ]
    },
    {
      "cell_type": "code",
      "metadata": {
        "id": "QM0G1uOkECj7"
      },
      "source": [
        " uniq_table.dropna(inplace=True)"
      ],
      "execution_count": 27,
      "outputs": []
    },
    {
      "cell_type": "code",
      "metadata": {
        "colab": {
          "base_uri": "https://localhost:8080/"
        },
        "id": "Yq54o266wxZv",
        "outputId": "48d0c078-6034-43bd-e74d-3bdf46a1a7ca"
      },
      "source": [
        "uniq_table.columns"
      ],
      "execution_count": 28,
      "outputs": [
        {
          "output_type": "execute_result",
          "data": {
            "text/plain": [
              "Index(['tags', 'description'], dtype='object')"
            ]
          },
          "metadata": {},
          "execution_count": 28
        }
      ]
    },
    {
      "cell_type": "code",
      "metadata": {
        "id": "1dDXuRA0w0O_"
      },
      "source": [
        "final_table = uniq_table"
      ],
      "execution_count": 29,
      "outputs": []
    },
    {
      "cell_type": "code",
      "metadata": {
        "colab": {
          "base_uri": "https://localhost:8080/",
          "height": 204
        },
        "id": "SNziylq2boCx",
        "outputId": "034c146a-6904-4da2-9e14-abf5257d3f3c"
      },
      "source": [
        "data_tags_count = uniq_table[\"tags\"].apply(lambda x: len(x.split(\" \"))) #series.apply(func) invoke function on values of Series.\n",
        "uniq_table['Tags_Count'] = data_tags_count\n",
        "uniq_table.head()"
      ],
      "execution_count": 30,
      "outputs": [
        {
          "output_type": "execute_result",
          "data": {
            "text/html": [
              "<div>\n",
              "<style scoped>\n",
              "    .dataframe tbody tr th:only-of-type {\n",
              "        vertical-align: middle;\n",
              "    }\n",
              "\n",
              "    .dataframe tbody tr th {\n",
              "        vertical-align: top;\n",
              "    }\n",
              "\n",
              "    .dataframe thead th {\n",
              "        text-align: right;\n",
              "    }\n",
              "</style>\n",
              "<table border=\"1\" class=\"dataframe\">\n",
              "  <thead>\n",
              "    <tr style=\"text-align: right;\">\n",
              "      <th></th>\n",
              "      <th>tags</th>\n",
              "      <th>description</th>\n",
              "      <th>Tags_Count</th>\n",
              "    </tr>\n",
              "  </thead>\n",
              "  <tbody>\n",
              "    <tr>\n",
              "      <th>0</th>\n",
              "      <td>licence-needed supervising-job 5-plus-years-ex...</td>\n",
              "      <td>THE COMPANY    Employer is a midstream service...</td>\n",
              "      <td>3</td>\n",
              "    </tr>\n",
              "    <tr>\n",
              "      <th>1</th>\n",
              "      <td>2-4-years-experience-needed salary full-time-job</td>\n",
              "      <td>ICR Staffing is now accepting resumes for Indu...</td>\n",
              "      <td>3</td>\n",
              "    </tr>\n",
              "    <tr>\n",
              "      <th>2</th>\n",
              "      <td>part-time-job</td>\n",
              "      <td>This is a great position for the right person....</td>\n",
              "      <td>1</td>\n",
              "    </tr>\n",
              "    <tr>\n",
              "      <th>3</th>\n",
              "      <td>licence-needed</td>\n",
              "      <td>A large multi-specialty health center is expan...</td>\n",
              "      <td>1</td>\n",
              "    </tr>\n",
              "    <tr>\n",
              "      <th>4</th>\n",
              "      <td>5-plus-years-experience-needed full-time-job b...</td>\n",
              "      <td>JOB PURPOSE:    The Account Director is respon...</td>\n",
              "      <td>4</td>\n",
              "    </tr>\n",
              "  </tbody>\n",
              "</table>\n",
              "</div>"
            ],
            "text/plain": [
              "                                                tags  ... Tags_Count\n",
              "0  licence-needed supervising-job 5-plus-years-ex...  ...          3\n",
              "1   2-4-years-experience-needed salary full-time-job  ...          3\n",
              "2                                      part-time-job  ...          1\n",
              "3                                     licence-needed  ...          1\n",
              "4  5-plus-years-experience-needed full-time-job b...  ...          4\n",
              "\n",
              "[5 rows x 3 columns]"
            ]
          },
          "metadata": {},
          "execution_count": 30
        }
      ]
    },
    {
      "cell_type": "code",
      "metadata": {
        "colab": {
          "base_uri": "https://localhost:8080/",
          "height": 204
        },
        "id": "MqdR5uKHb7N7",
        "outputId": "8488df2a-fc7c-418e-8125-065f25193f10"
      },
      "source": [
        "uniq_table.head()"
      ],
      "execution_count": 31,
      "outputs": [
        {
          "output_type": "execute_result",
          "data": {
            "text/html": [
              "<div>\n",
              "<style scoped>\n",
              "    .dataframe tbody tr th:only-of-type {\n",
              "        vertical-align: middle;\n",
              "    }\n",
              "\n",
              "    .dataframe tbody tr th {\n",
              "        vertical-align: top;\n",
              "    }\n",
              "\n",
              "    .dataframe thead th {\n",
              "        text-align: right;\n",
              "    }\n",
              "</style>\n",
              "<table border=\"1\" class=\"dataframe\">\n",
              "  <thead>\n",
              "    <tr style=\"text-align: right;\">\n",
              "      <th></th>\n",
              "      <th>tags</th>\n",
              "      <th>description</th>\n",
              "      <th>Tags_Count</th>\n",
              "    </tr>\n",
              "  </thead>\n",
              "  <tbody>\n",
              "    <tr>\n",
              "      <th>0</th>\n",
              "      <td>licence-needed supervising-job 5-plus-years-ex...</td>\n",
              "      <td>THE COMPANY    Employer is a midstream service...</td>\n",
              "      <td>3</td>\n",
              "    </tr>\n",
              "    <tr>\n",
              "      <th>1</th>\n",
              "      <td>2-4-years-experience-needed salary full-time-job</td>\n",
              "      <td>ICR Staffing is now accepting resumes for Indu...</td>\n",
              "      <td>3</td>\n",
              "    </tr>\n",
              "    <tr>\n",
              "      <th>2</th>\n",
              "      <td>part-time-job</td>\n",
              "      <td>This is a great position for the right person....</td>\n",
              "      <td>1</td>\n",
              "    </tr>\n",
              "    <tr>\n",
              "      <th>3</th>\n",
              "      <td>licence-needed</td>\n",
              "      <td>A large multi-specialty health center is expan...</td>\n",
              "      <td>1</td>\n",
              "    </tr>\n",
              "    <tr>\n",
              "      <th>4</th>\n",
              "      <td>5-plus-years-experience-needed full-time-job b...</td>\n",
              "      <td>JOB PURPOSE:    The Account Director is respon...</td>\n",
              "      <td>4</td>\n",
              "    </tr>\n",
              "  </tbody>\n",
              "</table>\n",
              "</div>"
            ],
            "text/plain": [
              "                                                tags  ... Tags_Count\n",
              "0  licence-needed supervising-job 5-plus-years-ex...  ...          3\n",
              "1   2-4-years-experience-needed salary full-time-job  ...          3\n",
              "2                                      part-time-job  ...          1\n",
              "3                                     licence-needed  ...          1\n",
              "4  5-plus-years-experience-needed full-time-job b...  ...          4\n",
              "\n",
              "[5 rows x 3 columns]"
            ]
          },
          "metadata": {},
          "execution_count": 31
        }
      ]
    },
    {
      "cell_type": "code",
      "metadata": {
        "colab": {
          "base_uri": "https://localhost:8080/"
        },
        "id": "kRkDcuo4b7K0",
        "outputId": "509390b2-bda7-4eff-97d8-7da597a879bc"
      },
      "source": [
        "print(\"Maximum number of tags per question = \"+str(max(uniq_table['Tags_Count'])))\n",
        "print(\"Minimum number of tags per question = \"+str(min(uniq_table['Tags_Count'])))\n",
        "print(\"Avg number of tags per question = \"+str(sum(uniq_table['Tags_Count'])/len(uniq_table['Tags_Count'])))"
      ],
      "execution_count": 32,
      "outputs": [
        {
          "output_type": "stream",
          "name": "stdout",
          "text": [
            "Maximum number of tags per question = 5\n",
            "Minimum number of tags per question = 1\n",
            "Avg number of tags per question = 1.9634703196347032\n"
          ]
        }
      ]
    },
    {
      "cell_type": "code",
      "metadata": {
        "colab": {
          "base_uri": "https://localhost:8080/"
        },
        "id": "4ph3CYteb7H8",
        "outputId": "8bde9bf3-ec9d-4a7c-cce5-3529a6ae5a74"
      },
      "source": [
        "uniq_table['Tags_Count'].value_counts()"
      ],
      "execution_count": 33,
      "outputs": [
        {
          "output_type": "execute_result",
          "data": {
            "text/plain": [
              "2    1339\n",
              "1    1275\n",
              "3     663\n",
              "4     197\n",
              "5      30\n",
              "Name: Tags_Count, dtype: int64"
            ]
          },
          "metadata": {},
          "execution_count": 33
        }
      ]
    },
    {
      "cell_type": "code",
      "metadata": {
        "id": "Hwh5Aj94eDGY"
      },
      "source": [
        "vectorizer = CountVectorizer(tokenizer = lambda x: x.split(\" \"))\n",
        "data_bow = vectorizer.fit_transform(uniq_table['tags'])"
      ],
      "execution_count": 34,
      "outputs": []
    },
    {
      "cell_type": "code",
      "metadata": {
        "colab": {
          "base_uri": "https://localhost:8080/"
        },
        "id": "W7vHAEkeeDER",
        "outputId": "b317831a-f00b-4cd5-d919-72eddd6bfb8f"
      },
      "source": [
        "print(\"Total number of datapoints = {}\".format(data_bow.shape[0]))\n",
        "print(\"Total number of unique tags = {}\".format(data_bow.shape[1]))"
      ],
      "execution_count": 17,
      "outputs": [
        {
          "output_type": "stream",
          "name": "stdout",
          "text": [
            "Total number of datapoints = 3504\n",
            "Total number of unique tags = 12\n"
          ]
        }
      ]
    },
    {
      "cell_type": "code",
      "metadata": {
        "colab": {
          "base_uri": "https://localhost:8080/"
        },
        "id": "zKfWzanceC4p",
        "outputId": "3271fe3b-368a-4a12-d429-53dbba7dee20"
      },
      "source": [
        "print(\"Some of the tags in our data: {}\".format(vectorizer.get_feature_names()[:15]))"
      ],
      "execution_count": 35,
      "outputs": [
        {
          "output_type": "stream",
          "name": "stdout",
          "text": [
            "Some of the tags in our data: ['1-year-experience-needed', '2-4-years-experience-needed', '5-plus-years-experience-needed', 'associate-needed', 'bs-degree-needed', 'full-time-job', 'hourly-wage', 'licence-needed', 'ms-or-phd-needed', 'part-time-job', 'salary', 'supervising-job']\n"
          ]
        }
      ]
    },
    {
      "cell_type": "code",
      "metadata": {
        "colab": {
          "base_uri": "https://localhost:8080/",
          "height": 359
        },
        "id": "q-C57FxZCTc1",
        "outputId": "ea55af57-c6c4-41f6-bee1-d7586669bbe2"
      },
      "source": [
        "col_sum = data_bow.sum(axis = 0).A1 #data_bow.sum(axis = 0) will sum the column of sparse matrix then .A1 will convert that \n",
        "                                    #matrix into array.\n",
        "feat_count = dict(zip(vectorizer.get_feature_names(), col_sum))\n",
        "feat_count_sorted = dict(sorted(feat_count.items(), key = lambda x: x[1], reverse = True))\n",
        "count_data = {\"Tags\":list(feat_count_sorted.keys()), \"Count\": list(feat_count_sorted.values())}\n",
        "count_df = pd.DataFrame(data = count_data)\n",
        "count_df[:10]"
      ],
      "execution_count": 39,
      "outputs": [
        {
          "output_type": "execute_result",
          "data": {
            "text/html": [
              "<div>\n",
              "<style scoped>\n",
              "    .dataframe tbody tr th:only-of-type {\n",
              "        vertical-align: middle;\n",
              "    }\n",
              "\n",
              "    .dataframe tbody tr th {\n",
              "        vertical-align: top;\n",
              "    }\n",
              "\n",
              "    .dataframe thead th {\n",
              "        text-align: right;\n",
              "    }\n",
              "</style>\n",
              "<table border=\"1\" class=\"dataframe\">\n",
              "  <thead>\n",
              "    <tr style=\"text-align: right;\">\n",
              "      <th></th>\n",
              "      <th>Tags</th>\n",
              "      <th>Count</th>\n",
              "    </tr>\n",
              "  </thead>\n",
              "  <tbody>\n",
              "    <tr>\n",
              "      <th>0</th>\n",
              "      <td>2-4-years-experience-needed</td>\n",
              "      <td>1043</td>\n",
              "    </tr>\n",
              "    <tr>\n",
              "      <th>1</th>\n",
              "      <td>bs-degree-needed</td>\n",
              "      <td>970</td>\n",
              "    </tr>\n",
              "    <tr>\n",
              "      <th>2</th>\n",
              "      <td>full-time-job</td>\n",
              "      <td>885</td>\n",
              "    </tr>\n",
              "    <tr>\n",
              "      <th>3</th>\n",
              "      <td>supervising-job</td>\n",
              "      <td>751</td>\n",
              "    </tr>\n",
              "    <tr>\n",
              "      <th>4</th>\n",
              "      <td>salary</td>\n",
              "      <td>669</td>\n",
              "    </tr>\n",
              "    <tr>\n",
              "      <th>5</th>\n",
              "      <td>5-plus-years-experience-needed</td>\n",
              "      <td>636</td>\n",
              "    </tr>\n",
              "    <tr>\n",
              "      <th>6</th>\n",
              "      <td>licence-needed</td>\n",
              "      <td>524</td>\n",
              "    </tr>\n",
              "    <tr>\n",
              "      <th>7</th>\n",
              "      <td>hourly-wage</td>\n",
              "      <td>451</td>\n",
              "    </tr>\n",
              "    <tr>\n",
              "      <th>8</th>\n",
              "      <td>1-year-experience-needed</td>\n",
              "      <td>331</td>\n",
              "    </tr>\n",
              "    <tr>\n",
              "      <th>9</th>\n",
              "      <td>part-time-job</td>\n",
              "      <td>328</td>\n",
              "    </tr>\n",
              "  </tbody>\n",
              "</table>\n",
              "</div>"
            ],
            "text/plain": [
              "                             Tags  Count\n",
              "0     2-4-years-experience-needed   1043\n",
              "1                bs-degree-needed    970\n",
              "2                   full-time-job    885\n",
              "3                 supervising-job    751\n",
              "4                          salary    669\n",
              "5  5-plus-years-experience-needed    636\n",
              "6                  licence-needed    524\n",
              "7                     hourly-wage    451\n",
              "8        1-year-experience-needed    331\n",
              "9                   part-time-job    328"
            ]
          },
          "metadata": {},
          "execution_count": 39
        }
      ]
    },
    {
      "cell_type": "code",
      "metadata": {
        "colab": {
          "base_uri": "https://localhost:8080/",
          "height": 359
        },
        "id": "OArAVf5CgrRI",
        "outputId": "73f96583-dfd5-48b1-aa53-2754865a7b91"
      },
      "source": [
        "count_df[-10:]"
      ],
      "execution_count": 40,
      "outputs": [
        {
          "output_type": "execute_result",
          "data": {
            "text/html": [
              "<div>\n",
              "<style scoped>\n",
              "    .dataframe tbody tr th:only-of-type {\n",
              "        vertical-align: middle;\n",
              "    }\n",
              "\n",
              "    .dataframe tbody tr th {\n",
              "        vertical-align: top;\n",
              "    }\n",
              "\n",
              "    .dataframe thead th {\n",
              "        text-align: right;\n",
              "    }\n",
              "</style>\n",
              "<table border=\"1\" class=\"dataframe\">\n",
              "  <thead>\n",
              "    <tr style=\"text-align: right;\">\n",
              "      <th></th>\n",
              "      <th>Tags</th>\n",
              "      <th>Count</th>\n",
              "    </tr>\n",
              "  </thead>\n",
              "  <tbody>\n",
              "    <tr>\n",
              "      <th>2</th>\n",
              "      <td>full-time-job</td>\n",
              "      <td>885</td>\n",
              "    </tr>\n",
              "    <tr>\n",
              "      <th>3</th>\n",
              "      <td>supervising-job</td>\n",
              "      <td>751</td>\n",
              "    </tr>\n",
              "    <tr>\n",
              "      <th>4</th>\n",
              "      <td>salary</td>\n",
              "      <td>669</td>\n",
              "    </tr>\n",
              "    <tr>\n",
              "      <th>5</th>\n",
              "      <td>5-plus-years-experience-needed</td>\n",
              "      <td>636</td>\n",
              "    </tr>\n",
              "    <tr>\n",
              "      <th>6</th>\n",
              "      <td>licence-needed</td>\n",
              "      <td>524</td>\n",
              "    </tr>\n",
              "    <tr>\n",
              "      <th>7</th>\n",
              "      <td>hourly-wage</td>\n",
              "      <td>451</td>\n",
              "    </tr>\n",
              "    <tr>\n",
              "      <th>8</th>\n",
              "      <td>1-year-experience-needed</td>\n",
              "      <td>331</td>\n",
              "    </tr>\n",
              "    <tr>\n",
              "      <th>9</th>\n",
              "      <td>part-time-job</td>\n",
              "      <td>328</td>\n",
              "    </tr>\n",
              "    <tr>\n",
              "      <th>10</th>\n",
              "      <td>associate-needed</td>\n",
              "      <td>209</td>\n",
              "    </tr>\n",
              "    <tr>\n",
              "      <th>11</th>\n",
              "      <td>ms-or-phd-needed</td>\n",
              "      <td>83</td>\n",
              "    </tr>\n",
              "  </tbody>\n",
              "</table>\n",
              "</div>"
            ],
            "text/plain": [
              "                              Tags  Count\n",
              "2                    full-time-job    885\n",
              "3                  supervising-job    751\n",
              "4                           salary    669\n",
              "5   5-plus-years-experience-needed    636\n",
              "6                   licence-needed    524\n",
              "7                      hourly-wage    451\n",
              "8         1-year-experience-needed    331\n",
              "9                    part-time-job    328\n",
              "10                associate-needed    209\n",
              "11                ms-or-phd-needed     83"
            ]
          },
          "metadata": {},
          "execution_count": 40
        }
      ]
    },
    {
      "cell_type": "code",
      "metadata": {
        "colab": {
          "base_uri": "https://localhost:8080/",
          "height": 850
        },
        "id": "1K2H4Sf6fW2f",
        "outputId": "373effe9-ea54-4f6b-8dc9-f03aac4fbc6f"
      },
      "source": [
        "worcloudPlot = WordCloud(background_color=\"black\", width=1500, height=1000)\n",
        "worcloudPlot.generate_from_frequencies(frequencies=feat_count)\n",
        "plt.figure(figsize=(30,20))\n",
        "plt.imshow(worcloudPlot, interpolation=\"bilinear\")\n",
        "plt.axis(\"off\")\n",
        "plt.show()"
      ],
      "execution_count": 41,
      "outputs": [
        {
          "output_type": "display_data",
          "data": {
            "image/png": "[encoded data removed]",
            "text/plain": [
              "<Figure size 2160x1440 with 1 Axes>"
            ]
          },
          "metadata": {
            "needs_background": "light"
          }
        }
      ]
    },
    {
      "cell_type": "code",
      "metadata": {
        "id": "asjrZ8f5Cvfs"
      },
      "source": [
        ""
      ],
      "execution_count": null,
      "outputs": []
    },
    {
      "cell_type": "code",
      "metadata": {
        "colab": {
          "base_uri": "https://localhost:8080/"
        },
        "id": "GjyR8ZdeC0Sk",
        "outputId": "c1805e72-1006-4117-fef6-245349540595"
      },
      "source": [
        "count_df.columns"
      ],
      "execution_count": 43,
      "outputs": [
        {
          "output_type": "execute_result",
          "data": {
            "text/plain": [
              "Index(['Tags', 'Count'], dtype='object')"
            ]
          },
          "metadata": {},
          "execution_count": 43
        }
      ]
    },
    {
      "cell_type": "code",
      "metadata": {
        "colab": {
          "base_uri": "https://localhost:8080/",
          "height": 1000
        },
        "id": "irw8wJ9ffj-L",
        "outputId": "6a03ab2d-5508-48ae-f019-94a3bee250b6"
      },
      "source": [
        "axes = count_df.head(20).plot(x = 'Tags', y = 'Count', kind = 'bar', figsize = (18, 10), fontsize = 15, grid = True)\n",
        "plt.xlabel(\"\")\n",
        "plt.ylabel(\"Count\", fontsize = 20)\n",
        "plt.title(\"occurence of tags\", fontsize = 20)\n",
        "cnt = 0\n",
        "for i in axes.patches:\n",
        "    axes.text(i.get_x(), i.get_height()+2000, count_df.head(20)['Tags'][cnt], fontsize=12, color='black')\n",
        "    cnt +=1"
      ],
      "execution_count": 45,
      "outputs": [
        {
          "output_type": "display_data",
          "data": {
            "image/png": "[encoded data removed]",
            "text/plain": [
              "<Figure size 1296x720 with 1 Axes>"
            ]
          },
          "metadata": {
            "needs_background": "light"
          }
        }
      ]
    },
    {
      "cell_type": "code",
      "metadata": {
        "id": "PLjiT9kNfj7b"
      },
      "source": [
        "frequency_tags = list(feat_count_sorted.values())"
      ],
      "execution_count": 46,
      "outputs": []
    },
    {
      "cell_type": "code",
      "metadata": {
        "colab": {
          "base_uri": "https://localhost:8080/"
        },
        "id": "xd7jKGaCfj2M",
        "outputId": "f5854237-90f4-4d95-ecc8-228a16d7b89f"
      },
      "source": [
        "frequency_tags"
      ],
      "execution_count": 47,
      "outputs": [
        {
          "output_type": "execute_result",
          "data": {
            "text/plain": [
              "[1043, 970, 885, 751, 669, 636, 524, 451, 331, 328, 209, 83]"
            ]
          },
          "metadata": {},
          "execution_count": 47
        }
      ]
    },
    {
      "cell_type": "code",
      "metadata": {
        "id": "1PKxiCcRzP8d"
      },
      "source": [
        ""
      ],
      "execution_count": null,
      "outputs": []
    },
    {
      "cell_type": "code",
      "metadata": {
        "colab": {
          "base_uri": "https://localhost:8080/",
          "height": 204
        },
        "id": "l9bLrZNJzP5b",
        "outputId": "5705e72c-0753-4a7e-c1da-c964a3f4076c"
      },
      "source": [
        "uniq_table.head()"
      ],
      "execution_count": 48,
      "outputs": [
        {
          "output_type": "execute_result",
          "data": {
            "text/html": [
              "<div>\n",
              "<style scoped>\n",
              "    .dataframe tbody tr th:only-of-type {\n",
              "        vertical-align: middle;\n",
              "    }\n",
              "\n",
              "    .dataframe tbody tr th {\n",
              "        vertical-align: top;\n",
              "    }\n",
              "\n",
              "    .dataframe thead th {\n",
              "        text-align: right;\n",
              "    }\n",
              "</style>\n",
              "<table border=\"1\" class=\"dataframe\">\n",
              "  <thead>\n",
              "    <tr style=\"text-align: right;\">\n",
              "      <th></th>\n",
              "      <th>tags</th>\n",
              "      <th>description</th>\n",
              "      <th>Tags_Count</th>\n",
              "    </tr>\n",
              "  </thead>\n",
              "  <tbody>\n",
              "    <tr>\n",
              "      <th>0</th>\n",
              "      <td>licence-needed supervising-job 5-plus-years-ex...</td>\n",
              "      <td>THE COMPANY    Employer is a midstream service...</td>\n",
              "      <td>3</td>\n",
              "    </tr>\n",
              "    <tr>\n",
              "      <th>1</th>\n",
              "      <td>2-4-years-experience-needed salary full-time-job</td>\n",
              "      <td>ICR Staffing is now accepting resumes for Indu...</td>\n",
              "      <td>3</td>\n",
              "    </tr>\n",
              "    <tr>\n",
              "      <th>2</th>\n",
              "      <td>part-time-job</td>\n",
              "      <td>This is a great position for the right person....</td>\n",
              "      <td>1</td>\n",
              "    </tr>\n",
              "    <tr>\n",
              "      <th>3</th>\n",
              "      <td>licence-needed</td>\n",
              "      <td>A large multi-specialty health center is expan...</td>\n",
              "      <td>1</td>\n",
              "    </tr>\n",
              "    <tr>\n",
              "      <th>4</th>\n",
              "      <td>5-plus-years-experience-needed full-time-job b...</td>\n",
              "      <td>JOB PURPOSE:    The Account Director is respon...</td>\n",
              "      <td>4</td>\n",
              "    </tr>\n",
              "  </tbody>\n",
              "</table>\n",
              "</div>"
            ],
            "text/plain": [
              "                                                tags  ... Tags_Count\n",
              "0  licence-needed supervising-job 5-plus-years-ex...  ...          3\n",
              "1   2-4-years-experience-needed salary full-time-job  ...          3\n",
              "2                                      part-time-job  ...          1\n",
              "3                                     licence-needed  ...          1\n",
              "4  5-plus-years-experience-needed full-time-job b...  ...          4\n",
              "\n",
              "[5 rows x 3 columns]"
            ]
          },
          "metadata": {},
          "execution_count": 48
        }
      ]
    },
    {
      "cell_type": "code",
      "metadata": {
        "id": "Eu_BR0vGzP3C"
      },
      "source": [
        "from sklearn.feature_extraction import text\n",
        "stop = text.ENGLISH_STOP_WORDS"
      ],
      "execution_count": 49,
      "outputs": []
    },
    {
      "cell_type": "code",
      "metadata": {
        "id": "7kzeZqjUw9Pk"
      },
      "source": [
        "from nltk.stem.snowball import SnowballStemmer"
      ],
      "execution_count": 50,
      "outputs": []
    },
    {
      "cell_type": "code",
      "metadata": {
        "id": "Hl-1iQnJxDXw"
      },
      "source": [
        "stemmer = SnowballStemmer(\"english\")"
      ],
      "execution_count": 51,
      "outputs": []
    },
    {
      "cell_type": "code",
      "metadata": {
        "colab": {
          "base_uri": "https://localhost:8080/",
          "height": 204
        },
        "id": "hWfZyssU_H7Q",
        "outputId": "b525b25c-caac-40b2-9f3d-7ebb9dd22fc6"
      },
      "source": [
        "final_table.head()"
      ],
      "execution_count": 52,
      "outputs": [
        {
          "output_type": "execute_result",
          "data": {
            "text/html": [
              "<div>\n",
              "<style scoped>\n",
              "    .dataframe tbody tr th:only-of-type {\n",
              "        vertical-align: middle;\n",
              "    }\n",
              "\n",
              "    .dataframe tbody tr th {\n",
              "        vertical-align: top;\n",
              "    }\n",
              "\n",
              "    .dataframe thead th {\n",
              "        text-align: right;\n",
              "    }\n",
              "</style>\n",
              "<table border=\"1\" class=\"dataframe\">\n",
              "  <thead>\n",
              "    <tr style=\"text-align: right;\">\n",
              "      <th></th>\n",
              "      <th>tags</th>\n",
              "      <th>description</th>\n",
              "      <th>Tags_Count</th>\n",
              "    </tr>\n",
              "  </thead>\n",
              "  <tbody>\n",
              "    <tr>\n",
              "      <th>0</th>\n",
              "      <td>licence-needed supervising-job 5-plus-years-ex...</td>\n",
              "      <td>THE COMPANY    Employer is a midstream service...</td>\n",
              "      <td>3</td>\n",
              "    </tr>\n",
              "    <tr>\n",
              "      <th>1</th>\n",
              "      <td>2-4-years-experience-needed salary full-time-job</td>\n",
              "      <td>ICR Staffing is now accepting resumes for Indu...</td>\n",
              "      <td>3</td>\n",
              "    </tr>\n",
              "    <tr>\n",
              "      <th>2</th>\n",
              "      <td>part-time-job</td>\n",
              "      <td>This is a great position for the right person....</td>\n",
              "      <td>1</td>\n",
              "    </tr>\n",
              "    <tr>\n",
              "      <th>3</th>\n",
              "      <td>licence-needed</td>\n",
              "      <td>A large multi-specialty health center is expan...</td>\n",
              "      <td>1</td>\n",
              "    </tr>\n",
              "    <tr>\n",
              "      <th>4</th>\n",
              "      <td>5-plus-years-experience-needed full-time-job b...</td>\n",
              "      <td>JOB PURPOSE:    The Account Director is respon...</td>\n",
              "      <td>4</td>\n",
              "    </tr>\n",
              "  </tbody>\n",
              "</table>\n",
              "</div>"
            ],
            "text/plain": [
              "                                                tags  ... Tags_Count\n",
              "0  licence-needed supervising-job 5-plus-years-ex...  ...          3\n",
              "1   2-4-years-experience-needed salary full-time-job  ...          3\n",
              "2                                      part-time-job  ...          1\n",
              "3                                     licence-needed  ...          1\n",
              "4  5-plus-years-experience-needed full-time-job b...  ...          4\n",
              "\n",
              "[5 rows x 3 columns]"
            ]
          },
          "metadata": {},
          "execution_count": 52
        }
      ]
    },
    {
      "cell_type": "code",
      "metadata": {
        "id": "oitOb_xo1BYE"
      },
      "source": [
        "final_table['description_lowercse']=final_table['description'].str.lower()"
      ],
      "execution_count": 54,
      "outputs": []
    },
    {
      "cell_type": "code",
      "metadata": {
        "colab": {
          "base_uri": "https://localhost:8080/",
          "height": 204
        },
        "id": "0WG0lRcE1QeY",
        "outputId": "ce29d662-deff-4dd3-f57a-2399ef1de30f"
      },
      "source": [
        "final_table.head()"
      ],
      "execution_count": 55,
      "outputs": [
        {
          "output_type": "execute_result",
          "data": {
            "text/html": [
              "<div>\n",
              "<style scoped>\n",
              "    .dataframe tbody tr th:only-of-type {\n",
              "        vertical-align: middle;\n",
              "    }\n",
              "\n",
              "    .dataframe tbody tr th {\n",
              "        vertical-align: top;\n",
              "    }\n",
              "\n",
              "    .dataframe thead th {\n",
              "        text-align: right;\n",
              "    }\n",
              "</style>\n",
              "<table border=\"1\" class=\"dataframe\">\n",
              "  <thead>\n",
              "    <tr style=\"text-align: right;\">\n",
              "      <th></th>\n",
              "      <th>tags</th>\n",
              "      <th>description</th>\n",
              "      <th>Tags_Count</th>\n",
              "      <th>description_lowercse</th>\n",
              "    </tr>\n",
              "  </thead>\n",
              "  <tbody>\n",
              "    <tr>\n",
              "      <th>0</th>\n",
              "      <td>licence-needed supervising-job 5-plus-years-ex...</td>\n",
              "      <td>THE COMPANY    Employer is a midstream service...</td>\n",
              "      <td>3</td>\n",
              "      <td>the company    employer is a midstream service...</td>\n",
              "    </tr>\n",
              "    <tr>\n",
              "      <th>1</th>\n",
              "      <td>2-4-years-experience-needed salary full-time-job</td>\n",
              "      <td>ICR Staffing is now accepting resumes for Indu...</td>\n",
              "      <td>3</td>\n",
              "      <td>icr staffing is now accepting resumes for indu...</td>\n",
              "    </tr>\n",
              "    <tr>\n",
              "      <th>2</th>\n",
              "      <td>part-time-job</td>\n",
              "      <td>This is a great position for the right person....</td>\n",
              "      <td>1</td>\n",
              "      <td>this is a great position for the right person....</td>\n",
              "    </tr>\n",
              "    <tr>\n",
              "      <th>3</th>\n",
              "      <td>licence-needed</td>\n",
              "      <td>A large multi-specialty health center is expan...</td>\n",
              "      <td>1</td>\n",
              "      <td>a large multi-specialty health center is expan...</td>\n",
              "    </tr>\n",
              "    <tr>\n",
              "      <th>4</th>\n",
              "      <td>5-plus-years-experience-needed full-time-job b...</td>\n",
              "      <td>JOB PURPOSE:    The Account Director is respon...</td>\n",
              "      <td>4</td>\n",
              "      <td>job purpose:    the account director is respon...</td>\n",
              "    </tr>\n",
              "  </tbody>\n",
              "</table>\n",
              "</div>"
            ],
            "text/plain": [
              "                                                tags  ...                               description_lowercse\n",
              "0  licence-needed supervising-job 5-plus-years-ex...  ...  the company    employer is a midstream service...\n",
              "1   2-4-years-experience-needed salary full-time-job  ...  icr staffing is now accepting resumes for indu...\n",
              "2                                      part-time-job  ...  this is a great position for the right person....\n",
              "3                                     licence-needed  ...  a large multi-specialty health center is expan...\n",
              "4  5-plus-years-experience-needed full-time-job b...  ...  job purpose:    the account director is respon...\n",
              "\n",
              "[5 rows x 4 columns]"
            ]
          },
          "metadata": {},
          "execution_count": 55
        }
      ]
    },
    {
      "cell_type": "code",
      "metadata": {
        "id": "Vshp01rK9kyc"
      },
      "source": [
        "final_table['description_without_stopword'] = final_table['description_lowercse'].apply(lambda x: ' '.join([word for word in x.split() if word not in (stop)]))\n"
      ],
      "execution_count": 56,
      "outputs": []
    },
    {
      "cell_type": "code",
      "metadata": {
        "colab": {
          "base_uri": "https://localhost:8080/",
          "height": 289
        },
        "id": "60HtttZGzPx2",
        "outputId": "39fba76a-923b-4940-ac56-00e5b8a182e4"
      },
      "source": [
        "final_table.head()"
      ],
      "execution_count": 57,
      "outputs": [
        {
          "output_type": "execute_result",
          "data": {
            "text/html": [
              "<div>\n",
              "<style scoped>\n",
              "    .dataframe tbody tr th:only-of-type {\n",
              "        vertical-align: middle;\n",
              "    }\n",
              "\n",
              "    .dataframe tbody tr th {\n",
              "        vertical-align: top;\n",
              "    }\n",
              "\n",
              "    .dataframe thead th {\n",
              "        text-align: right;\n",
              "    }\n",
              "</style>\n",
              "<table border=\"1\" class=\"dataframe\">\n",
              "  <thead>\n",
              "    <tr style=\"text-align: right;\">\n",
              "      <th></th>\n",
              "      <th>tags</th>\n",
              "      <th>description</th>\n",
              "      <th>Tags_Count</th>\n",
              "      <th>description_lowercse</th>\n",
              "      <th>description_without_stopword</th>\n",
              "    </tr>\n",
              "  </thead>\n",
              "  <tbody>\n",
              "    <tr>\n",
              "      <th>0</th>\n",
              "      <td>licence-needed supervising-job 5-plus-years-ex...</td>\n",
              "      <td>THE COMPANY    Employer is a midstream service...</td>\n",
              "      <td>3</td>\n",
              "      <td>the company    employer is a midstream service...</td>\n",
              "      <td>company employer midstream service provider on...</td>\n",
              "    </tr>\n",
              "    <tr>\n",
              "      <th>1</th>\n",
              "      <td>2-4-years-experience-needed salary full-time-job</td>\n",
              "      <td>ICR Staffing is now accepting resumes for Indu...</td>\n",
              "      <td>3</td>\n",
              "      <td>icr staffing is now accepting resumes for indu...</td>\n",
              "      <td>icr staffing accepting resumes industrial main...</td>\n",
              "    </tr>\n",
              "    <tr>\n",
              "      <th>2</th>\n",
              "      <td>part-time-job</td>\n",
              "      <td>This is a great position for the right person....</td>\n",
              "      <td>1</td>\n",
              "      <td>this is a great position for the right person....</td>\n",
              "      <td>great position right person. healthcareseeker....</td>\n",
              "    </tr>\n",
              "    <tr>\n",
              "      <th>3</th>\n",
              "      <td>licence-needed</td>\n",
              "      <td>A large multi-specialty health center is expan...</td>\n",
              "      <td>1</td>\n",
              "      <td>a large multi-specialty health center is expan...</td>\n",
              "      <td>large multi-specialty health center expanding ...</td>\n",
              "    </tr>\n",
              "    <tr>\n",
              "      <th>4</th>\n",
              "      <td>5-plus-years-experience-needed full-time-job b...</td>\n",
              "      <td>JOB PURPOSE:    The Account Director is respon...</td>\n",
              "      <td>4</td>\n",
              "      <td>job purpose:    the account director is respon...</td>\n",
              "      <td>job purpose: account director responsible mana...</td>\n",
              "    </tr>\n",
              "  </tbody>\n",
              "</table>\n",
              "</div>"
            ],
            "text/plain": [
              "                                                tags  ...                       description_without_stopword\n",
              "0  licence-needed supervising-job 5-plus-years-ex...  ...  company employer midstream service provider on...\n",
              "1   2-4-years-experience-needed salary full-time-job  ...  icr staffing accepting resumes industrial main...\n",
              "2                                      part-time-job  ...  great position right person. healthcareseeker....\n",
              "3                                     licence-needed  ...  large multi-specialty health center expanding ...\n",
              "4  5-plus-years-experience-needed full-time-job b...  ...  job purpose: account director responsible mana...\n",
              "\n",
              "[5 rows x 5 columns]"
            ]
          },
          "metadata": {},
          "execution_count": 57
        }
      ]
    },
    {
      "cell_type": "code",
      "metadata": {
        "id": "PJck6KTZzPvl"
      },
      "source": [
        "final_table = final_table.drop(columns=['description','description_lowercse'])"
      ],
      "execution_count": 59,
      "outputs": []
    },
    {
      "cell_type": "code",
      "metadata": {
        "colab": {
          "base_uri": "https://localhost:8080/",
          "height": 204
        },
        "id": "WwUVSvI3zPs7",
        "outputId": "04f5d81a-a2ef-464d-b28e-9a6e4224dfd0"
      },
      "source": [
        "final_table.head()"
      ],
      "execution_count": 60,
      "outputs": [
        {
          "output_type": "execute_result",
          "data": {
            "text/html": [
              "<div>\n",
              "<style scoped>\n",
              "    .dataframe tbody tr th:only-of-type {\n",
              "        vertical-align: middle;\n",
              "    }\n",
              "\n",
              "    .dataframe tbody tr th {\n",
              "        vertical-align: top;\n",
              "    }\n",
              "\n",
              "    .dataframe thead th {\n",
              "        text-align: right;\n",
              "    }\n",
              "</style>\n",
              "<table border=\"1\" class=\"dataframe\">\n",
              "  <thead>\n",
              "    <tr style=\"text-align: right;\">\n",
              "      <th></th>\n",
              "      <th>tags</th>\n",
              "      <th>Tags_Count</th>\n",
              "      <th>description_without_stopword</th>\n",
              "    </tr>\n",
              "  </thead>\n",
              "  <tbody>\n",
              "    <tr>\n",
              "      <th>0</th>\n",
              "      <td>licence-needed supervising-job 5-plus-years-ex...</td>\n",
              "      <td>3</td>\n",
              "      <td>company employer midstream service provider on...</td>\n",
              "    </tr>\n",
              "    <tr>\n",
              "      <th>1</th>\n",
              "      <td>2-4-years-experience-needed salary full-time-job</td>\n",
              "      <td>3</td>\n",
              "      <td>icr staffing accepting resumes industrial main...</td>\n",
              "    </tr>\n",
              "    <tr>\n",
              "      <th>2</th>\n",
              "      <td>part-time-job</td>\n",
              "      <td>1</td>\n",
              "      <td>great position right person. healthcareseeker....</td>\n",
              "    </tr>\n",
              "    <tr>\n",
              "      <th>3</th>\n",
              "      <td>licence-needed</td>\n",
              "      <td>1</td>\n",
              "      <td>large multi-specialty health center expanding ...</td>\n",
              "    </tr>\n",
              "    <tr>\n",
              "      <th>4</th>\n",
              "      <td>5-plus-years-experience-needed full-time-job b...</td>\n",
              "      <td>4</td>\n",
              "      <td>job purpose: account director responsible mana...</td>\n",
              "    </tr>\n",
              "  </tbody>\n",
              "</table>\n",
              "</div>"
            ],
            "text/plain": [
              "                                                tags  ...                       description_without_stopword\n",
              "0  licence-needed supervising-job 5-plus-years-ex...  ...  company employer midstream service provider on...\n",
              "1   2-4-years-experience-needed salary full-time-job  ...  icr staffing accepting resumes industrial main...\n",
              "2                                      part-time-job  ...  great position right person. healthcareseeker....\n",
              "3                                     licence-needed  ...  large multi-specialty health center expanding ...\n",
              "4  5-plus-years-experience-needed full-time-job b...  ...  job purpose: account director responsible mana...\n",
              "\n",
              "[5 rows x 3 columns]"
            ]
          },
          "metadata": {},
          "execution_count": 60
        }
      ]
    },
    {
      "cell_type": "code",
      "metadata": {
        "colab": {
          "base_uri": "https://localhost:8080/"
        },
        "id": "ZJunOgoJzPqS",
        "outputId": "257b1622-6056-4645-e91a-5fa048f71b93"
      },
      "source": [
        "\n",
        "print(\"Total number of description = {}\".format(final_table.shape[0]))"
      ],
      "execution_count": 61,
      "outputs": [
        {
          "output_type": "stream",
          "name": "stdout",
          "text": [
            "Total number of description = 3504\n"
          ]
        }
      ]
    },
    {
      "cell_type": "code",
      "metadata": {
        "colab": {
          "base_uri": "https://localhost:8080/"
        },
        "id": "nzskj5VNR1_p",
        "outputId": "5bb04c55-266e-4c9f-ff13-f0ef9ee03fce"
      },
      "source": [
        "final_table.columns"
      ],
      "execution_count": 62,
      "outputs": [
        {
          "output_type": "execute_result",
          "data": {
            "text/plain": [
              "Index(['tags', 'Tags_Count', 'description_without_stopword'], dtype='object')"
            ]
          },
          "metadata": {},
          "execution_count": 62
        }
      ]
    },
    {
      "cell_type": "code",
      "metadata": {
        "id": "8o4khED1RL7z"
      },
      "source": [
        "alltags = final_table.drop(columns=['description_without_stopword'])"
      ],
      "execution_count": 63,
      "outputs": []
    },
    {
      "cell_type": "code",
      "metadata": {
        "id": "mw-d2d7XzPnv"
      },
      "source": [
        "# vectorizer = CountVectorizer(tokenizer = lambda x: x.split(\" \"), binary = True)\n",
        "# data_bow = vectorizer.fit_transform(final_table['tags'])"
      ],
      "execution_count": null,
      "outputs": []
    },
    {
      "cell_type": "code",
      "metadata": {
        "colab": {
          "base_uri": "https://localhost:8080/"
        },
        "id": "DM1PFVeAS8_c",
        "outputId": "7462f89b-5c14-4fde-fd32-d0d6288862c3"
      },
      "source": [
        "#removing tags from data\n",
        "data_tags = data_bow\n",
        "TagsDF_new = pd.DataFrame(data_tags.toarray())\n",
        "# TagsDF_new = df.drop(labels = RowIndicesZero, axis = 0)\n",
        "TagsDF_new.reset_index(drop = True, inplace = True)\n",
        "print(\"Size of new data = \",TagsDF_new.shape[0])"
      ],
      "execution_count": 64,
      "outputs": [
        {
          "output_type": "stream",
          "name": "stdout",
          "text": [
            "Size of new data =  3504\n"
          ]
        }
      ]
    },
    {
      "cell_type": "code",
      "metadata": {
        "id": "5wFCwTOZS8zv"
      },
      "source": [
        ""
      ],
      "execution_count": null,
      "outputs": []
    },
    {
      "cell_type": "code",
      "metadata": {
        "id": "AfCdpy4JQU5g"
      },
      "source": [
        "totalSize = final_table.shape[0]\n",
        "trainSize = int(0.80*totalSize)\n",
        "\n",
        "x_train = final_table.head(trainSize)\n",
        "x_test = final_table.tail(totalSize - trainSize)\n",
        "alltags = sparse.csr_matrix(TagsDF_new.values)\n",
        "y_train = alltags[0:trainSize]\n",
        "y_test = alltags[trainSize:totalSize]"
      ],
      "execution_count": 66,
      "outputs": []
    },
    {
      "cell_type": "code",
      "metadata": {
        "colab": {
          "base_uri": "https://localhost:8080/"
        },
        "id": "_Wk3qruxEgA7",
        "outputId": "0c53f570-53ab-4984-b71a-e0095959b857"
      },
      "source": [
        "x_train.columns"
      ],
      "execution_count": 69,
      "outputs": [
        {
          "output_type": "execute_result",
          "data": {
            "text/plain": [
              "Index(['tags', 'Tags_Count', 'description_without_stopword'], dtype='object')"
            ]
          },
          "metadata": {},
          "execution_count": 69
        }
      ]
    },
    {
      "cell_type": "code",
      "metadata": {
        "colab": {
          "base_uri": "https://localhost:8080/"
        },
        "id": "Xr6OfR0h6tCL",
        "outputId": "a1350623-e853-4123-9f5d-72fea528d972"
      },
      "source": [
        "print(\"Train data shape \",x_train.shape)\n",
        "print(\"Train label shape\", y_train.shape)\n",
        "print(\"Test data shape \",x_test.shape)\n",
        "print(\"Test label shape\", y_test.shape)"
      ],
      "execution_count": 67,
      "outputs": [
        {
          "output_type": "stream",
          "name": "stdout",
          "text": [
            "Train data shape  (2803, 3)\n",
            "Train label shape (2803, 12)\n",
            "Test data shape  (701, 3)\n",
            "Test label shape (701, 12)\n"
          ]
        }
      ]
    },
    {
      "cell_type": "code",
      "metadata": {
        "id": "dgPd4B3h6s4w",
        "colab": {
          "base_uri": "https://localhost:8080/"
        },
        "outputId": "ad59af2f-5f5e-413f-f7bd-092be2efea71"
      },
      "source": [
        "start = datetime.now()\n",
        "vectorizer = TfidfVectorizer(min_df = 0.0001, ngram_range = (1,3), tokenizer = lambda x: x.split(\" \"))\n",
        "TrainData = vectorizer.fit_transform(x_train['description_without_stopword'])\n",
        "TestData = vectorizer.transform(x_test['description_without_stopword'])\n",
        "print(\"Time Taken = \",datetime.now()-start)"
      ],
      "execution_count": 70,
      "outputs": [
        {
          "output_type": "stream",
          "name": "stdout",
          "text": [
            "Time Taken =  0:00:06.063688\n"
          ]
        }
      ]
    },
    {
      "cell_type": "code",
      "metadata": {
        "id": "eHP2pbJyb7EK"
      },
      "source": [
        "#hyper-parameter tuning of alpha\n",
        "alpha = [10**-8, 10**-6, 10**-4, 10**-2]\n",
        "for i in alpha:\n",
        "    classifier = OneVsRestClassifier(SGDClassifier(loss='log', alpha=i, penalty='l1'), n_jobs=-1)\n",
        "    classifier.fit(FinalTrain, FinalTrainLabels)\n",
        "    predictions = classifier.predict(FinalTest)\n",
        "    print(\"For alpha value = {}, Micro f1 score = {}\".format(i, f1_score(FinalTestLabels, predictions, average = 'micro')))"
      ],
      "execution_count": null,
      "outputs": []
    },
    {
      "cell_type": "code",
      "metadata": {
        "id": "20G7uYX_Fcjn"
      },
      "source": [
        ""
      ],
      "execution_count": null,
      "outputs": []
    },
    {
      "cell_type": "code",
      "metadata": {
        "id": "gZJb1Z91Fcg9"
      },
      "source": [
        ""
      ],
      "execution_count": null,
      "outputs": []
    },
    {
      "cell_type": "code",
      "metadata": {
        "id": "dRtUrn9GFccx"
      },
      "source": [
        ""
      ],
      "execution_count": null,
      "outputs": []
    },
    {
      "cell_type": "code",
      "metadata": {
        "id": "_FmlkyjsFcaV"
      },
      "source": [
        ""
      ],
      "execution_count": null,
      "outputs": []
    },
    {
      "cell_type": "code",
      "metadata": {
        "id": "fxip42LCFcUD"
      },
      "source": [
        ""
      ],
      "execution_count": null,
      "outputs": []
    },
    {
      "cell_type": "code",
      "metadata": {
        "id": "vaXdoLW9FcQx"
      },
      "source": [
        ""
      ],
      "execution_count": null,
      "outputs": []
    },
    {
      "cell_type": "code",
      "metadata": {
        "id": "A0oAo8kUb7AC"
      },
      "source": [
        ""
      ],
      "execution_count": null,
      "outputs": []
    },
    {
      "cell_type": "code",
      "metadata": {
        "id": "c2pjG3gJb68z"
      },
      "source": [
        ""
      ],
      "execution_count": null,
      "outputs": []
    },
    {
      "cell_type": "code",
      "metadata": {
        "colab": {
          "base_uri": "https://localhost:8080/"
        },
        "id": "riDSHD3D-vUW",
        "outputId": "87d43bd5-ce75-4eb4-bd0d-cc6fba4fb08d"
      },
      "source": [
        "len(uniq_table)"
      ],
      "execution_count": null,
      "outputs": [
        {
          "output_type": "execute_result",
          "data": {
            "text/plain": [
              "3504"
            ]
          },
          "metadata": {},
          "execution_count": 32
        }
      ]
    },
    {
      "cell_type": "code",
      "metadata": {
        "colab": {
          "base_uri": "https://localhost:8080/",
          "height": 450
        },
        "id": "8kBIvv3uEWnX",
        "outputId": "1b4046c1-1ff2-463c-f7a3-802fdda35c6e"
      },
      "source": [
        "uniq_table.groupby(['tags']).count()"
      ],
      "execution_count": null,
      "outputs": [
        {
          "output_type": "execute_result",
          "data": {
            "text/html": [
              "<div>\n",
              "<style scoped>\n",
              "    .dataframe tbody tr th:only-of-type {\n",
              "        vertical-align: middle;\n",
              "    }\n",
              "\n",
              "    .dataframe tbody tr th {\n",
              "        vertical-align: top;\n",
              "    }\n",
              "\n",
              "    .dataframe thead th {\n",
              "        text-align: right;\n",
              "    }\n",
              "</style>\n",
              "<table border=\"1\" class=\"dataframe\">\n",
              "  <thead>\n",
              "    <tr style=\"text-align: right;\">\n",
              "      <th></th>\n",
              "      <th>description</th>\n",
              "    </tr>\n",
              "    <tr>\n",
              "      <th>tags</th>\n",
              "      <th></th>\n",
              "    </tr>\n",
              "  </thead>\n",
              "  <tbody>\n",
              "    <tr>\n",
              "      <th>1-year-experience-needed</th>\n",
              "      <td>76</td>\n",
              "    </tr>\n",
              "    <tr>\n",
              "      <th>1-year-experience-needed associate-needed</th>\n",
              "      <td>2</td>\n",
              "    </tr>\n",
              "    <tr>\n",
              "      <th>1-year-experience-needed associate-needed part-time-job</th>\n",
              "      <td>1</td>\n",
              "    </tr>\n",
              "    <tr>\n",
              "      <th>1-year-experience-needed bs-degree-needed</th>\n",
              "      <td>26</td>\n",
              "    </tr>\n",
              "    <tr>\n",
              "      <th>1-year-experience-needed bs-degree-needed full-time-job</th>\n",
              "      <td>2</td>\n",
              "    </tr>\n",
              "    <tr>\n",
              "      <th>...</th>\n",
              "      <td>...</td>\n",
              "    </tr>\n",
              "    <tr>\n",
              "      <th>supervising-job salary bs-degree-needed</th>\n",
              "      <td>1</td>\n",
              "    </tr>\n",
              "    <tr>\n",
              "      <th>supervising-job salary bs-degree-needed 5-plus-years-experience-needed full-time-job</th>\n",
              "      <td>1</td>\n",
              "    </tr>\n",
              "    <tr>\n",
              "      <th>supervising-job salary full-time-job</th>\n",
              "      <td>2</td>\n",
              "    </tr>\n",
              "    <tr>\n",
              "      <th>supervising-job salary full-time-job bs-degree-needed</th>\n",
              "      <td>1</td>\n",
              "    </tr>\n",
              "    <tr>\n",
              "      <th>supervising-job salary licence-needed 5-plus-years-experience-needed</th>\n",
              "      <td>1</td>\n",
              "    </tr>\n",
              "  </tbody>\n",
              "</table>\n",
              "<p>595 rows × 1 columns</p>\n",
              "</div>"
            ],
            "text/plain": [
              "                                                    description\n",
              "tags                                                           \n",
              "1-year-experience-needed                                     76\n",
              "1-year-experience-needed associate-needed                     2\n",
              "1-year-experience-needed associate-needed part-...            1\n",
              "1-year-experience-needed bs-degree-needed                    26\n",
              "1-year-experience-needed bs-degree-needed full-...            2\n",
              "...                                                         ...\n",
              "supervising-job salary bs-degree-needed                       1\n",
              "supervising-job salary bs-degree-needed 5-plus-...            1\n",
              "supervising-job salary full-time-job                          2\n",
              "supervising-job salary full-time-job bs-degree-...            1\n",
              "supervising-job salary licence-needed 5-plus-ye...            1\n",
              "\n",
              "[595 rows x 1 columns]"
            ]
          },
          "metadata": {},
          "execution_count": 18
        }
      ]
    },
    {
      "cell_type": "code",
      "metadata": {
        "id": "hPoHRiiAHZXR"
      },
      "source": [
        "df = uniq_table.groupby(['tags']).count().sort_values(['description'],ascending=False) \n",
        "                             "
      ],
      "execution_count": null,
      "outputs": []
    },
    {
      "cell_type": "code",
      "metadata": {
        "colab": {
          "base_uri": "https://localhost:8080/",
          "height": 390
        },
        "id": "VQPoJh2iICjt",
        "outputId": "154ff7be-5bfd-4625-c42b-bed9ddce00d1"
      },
      "source": [
        "df.head(10)"
      ],
      "execution_count": null,
      "outputs": [
        {
          "output_type": "execute_result",
          "data": {
            "text/html": [
              "<div>\n",
              "<style scoped>\n",
              "    .dataframe tbody tr th:only-of-type {\n",
              "        vertical-align: middle;\n",
              "    }\n",
              "\n",
              "    .dataframe tbody tr th {\n",
              "        vertical-align: top;\n",
              "    }\n",
              "\n",
              "    .dataframe thead th {\n",
              "        text-align: right;\n",
              "    }\n",
              "</style>\n",
              "<table border=\"1\" class=\"dataframe\">\n",
              "  <thead>\n",
              "    <tr style=\"text-align: right;\">\n",
              "      <th></th>\n",
              "      <th>description</th>\n",
              "    </tr>\n",
              "    <tr>\n",
              "      <th>tags</th>\n",
              "      <th></th>\n",
              "    </tr>\n",
              "  </thead>\n",
              "  <tbody>\n",
              "    <tr>\n",
              "      <th>2-4-years-experience-needed</th>\n",
              "      <td>214</td>\n",
              "    </tr>\n",
              "    <tr>\n",
              "      <th>licence-needed</th>\n",
              "      <td>165</td>\n",
              "    </tr>\n",
              "    <tr>\n",
              "      <th>full-time-job</th>\n",
              "      <td>137</td>\n",
              "    </tr>\n",
              "    <tr>\n",
              "      <th>hourly-wage</th>\n",
              "      <td>119</td>\n",
              "    </tr>\n",
              "    <tr>\n",
              "      <th>part-time-job</th>\n",
              "      <td>118</td>\n",
              "    </tr>\n",
              "    <tr>\n",
              "      <th>bs-degree-needed</th>\n",
              "      <td>110</td>\n",
              "    </tr>\n",
              "    <tr>\n",
              "      <th>salary</th>\n",
              "      <td>98</td>\n",
              "    </tr>\n",
              "    <tr>\n",
              "      <th>5-plus-years-experience-needed</th>\n",
              "      <td>97</td>\n",
              "    </tr>\n",
              "    <tr>\n",
              "      <th>supervising-job</th>\n",
              "      <td>91</td>\n",
              "    </tr>\n",
              "    <tr>\n",
              "      <th>bs-degree-needed 2-4-years-experience-needed</th>\n",
              "      <td>86</td>\n",
              "    </tr>\n",
              "  </tbody>\n",
              "</table>\n",
              "</div>"
            ],
            "text/plain": [
              "                                              description\n",
              "tags                                                     \n",
              "2-4-years-experience-needed                           214\n",
              "licence-needed                                        165\n",
              "full-time-job                                         137\n",
              "hourly-wage                                           119\n",
              "part-time-job                                         118\n",
              "bs-degree-needed                                      110\n",
              "salary                                                 98\n",
              "5-plus-years-experience-needed                         97\n",
              "supervising-job                                        91\n",
              "bs-degree-needed 2-4-years-experience-needed           86"
            ]
          },
          "metadata": {},
          "execution_count": 43
        }
      ]
    },
    {
      "cell_type": "code",
      "metadata": {
        "id": "QiuB2DtRP9vP"
      },
      "source": [
        "df = df[df['description']>=5]"
      ],
      "execution_count": null,
      "outputs": []
    },
    {
      "cell_type": "code",
      "metadata": {
        "id": "dASxlvrTQESZ"
      },
      "source": [
        "df.head(30)"
      ],
      "execution_count": null,
      "outputs": []
    },
    {
      "cell_type": "code",
      "metadata": {
        "id": "YU2CgaFGOe6I"
      },
      "source": [
        "from matplotlib import pyplot as plt\n"
      ],
      "execution_count": null,
      "outputs": []
    },
    {
      "cell_type": "code",
      "metadata": {
        "colab": {
          "base_uri": "https://localhost:8080/",
          "height": 333
        },
        "id": "VSWLFD-KPNCs",
        "outputId": "eaecece3-bc50-4b91-e225-03fc34f2d72d"
      },
      "source": [
        "fig = plt.figure()\n",
        "plt.plot(df)\n",
        "fig.suptitle('test title', fontsize=20)\n",
        "plt.xlabel('xlabel', fontsize=18)\n",
        "plt.ylabel('ylabel', fontsize=16)\n",
        "# fig.savefig('test.jpg')"
      ],
      "execution_count": null,
      "outputs": [
        {
          "output_type": "execute_result",
          "data": {
            "text/plain": [
              "Text(0, 0.5, 'ylabel')"
            ]
          },
          "metadata": {},
          "execution_count": 59
        },
        {
          "output_type": "display_data",
          "data": {
            "image/png": "[encoded data removed]",
            "text/plain": [
              "<Figure size 432x288 with 1 Axes>"
            ]
          },
          "metadata": {
            "needs_background": "light"
          }
        }
      ]
    },
    {
      "cell_type": "code",
      "metadata": {
        "id": "7Dkig_74W3Qy"
      },
      "source": [
        "vectorizer = CountVectorizer(tokenizer = lambda x: x.split(\" \"))"
      ],
      "execution_count": null,
      "outputs": []
    },
    {
      "cell_type": "code",
      "metadata": {
        "colab": {
          "base_uri": "https://localhost:8080/"
        },
        "id": "dNP0joIXY_rY",
        "outputId": "3a22b9d6-bb1e-4847-dd6b-6f62fff9c164"
      },
      "source": [
        "uniq_table.columns"
      ],
      "execution_count": null,
      "outputs": [
        {
          "output_type": "execute_result",
          "data": {
            "text/plain": [
              "Index(['tags', 'description'], dtype='object')"
            ]
          },
          "metadata": {},
          "execution_count": 9
        }
      ]
    },
    {
      "cell_type": "code",
      "metadata": {
        "colab": {
          "base_uri": "https://localhost:8080/"
        },
        "id": "lYYXECgNZS_g",
        "outputId": "9e54ce05-c877-4fa5-b1af-c074939c29d4"
      },
      "source": [
        "uniq_table.isna()."
      ],
      "execution_count": null,
      "outputs": [
        {
          "output_type": "execute_result",
          "data": {
            "text/plain": [
              "tags           4375\n",
              "description    4375\n",
              "dtype: int64"
            ]
          },
          "metadata": {},
          "execution_count": 12
        }
      ]
    },
    {
      "cell_type": "code",
      "metadata": {
        "id": "OMOLBw6rY_SV"
      },
      "source": [
        "data_bow = vectorizer.fit_transform(uniq_table['tags'])"
      ],
      "execution_count": null,
      "outputs": []
    },
    {
      "cell_type": "code",
      "metadata": {
        "colab": {
          "base_uri": "https://localhost:8080/"
        },
        "id": "Vb6WPwlAZn8O",
        "outputId": "48e68f19-a6ab-49b0-a9d6-8077ef340aad"
      },
      "source": [
        "print(\"Total number of datapoints = {}\".format(data_bow.shape[0]))\n",
        "print(\"Total number of unique tags = {}\".format(data_bow.shape[1]))"
      ],
      "execution_count": null,
      "outputs": [
        {
          "output_type": "stream",
          "name": "stdout",
          "text": [
            "Total number of datapoints = 3504\n",
            "Total number of unique tags = 12\n"
          ]
        }
      ]
    },
    {
      "cell_type": "code",
      "metadata": {
        "id": "ioDoWe4hZtmf"
      },
      "source": [
        ""
      ],
      "execution_count": null,
      "outputs": []
    }
  ]
}